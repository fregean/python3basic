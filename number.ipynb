{
  "nbformat": 4,
  "nbformat_minor": 0,
  "metadata": {
    "kernelspec": {
      "display_name": "Python 3",
      "language": "python",
      "name": "python3"
    },
    "language_info": {
      "codemirror_mode": {
        "name": "ipython",
        "version": 3
      },
      "file_extension": ".py",
      "mimetype": "text/x-python",
      "name": "python",
      "nbconvert_exporter": "python",
      "pygments_lexer": "ipython3",
      "version": "3.7.3"
    },
    "colab": {
      "name": "number.ipynb",
      "provenance": [],
      "toc_visible": true
    }
  },
  "cells": [
    {
      "cell_type": "markdown",
      "metadata": {
        "id": "-1MKLeUdEt-f",
        "colab_type": "text"
      },
      "source": [
        "<a href=\"https://colab.research.google.com/github/fregean/python3basic/blob/master/number.ipynb\" target=\"_parent\"><img src=\"https://colab.research.google.com/assets/colab-badge.svg\" alt=\"Open In Colab\"/></a>"
      ]
    },
    {
      "cell_type": "markdown",
      "metadata": {
        "id": "sIlaoH2TEysD",
        "colab_type": "text"
      },
      "source": [
        ">## 数値\n",
        "<strong>計算</strong>と<strong>変数</strong>"
      ]
    },
    {
      "cell_type": "code",
      "metadata": {
        "id": "9O0H7iXHEkNv",
        "colab_type": "code",
        "colab": {}
      },
      "source": [
        ""
      ],
      "execution_count": null,
      "outputs": []
    },
    {
      "cell_type": "code",
      "metadata": {
        "id": "wuERBuysEkN0",
        "colab_type": "code",
        "colab": {},
        "outputId": "53ace9d0-70aa-4edb-b559-2864fb5d1615"
      },
      "source": [
        "3"
      ],
      "execution_count": null,
      "outputs": [
        {
          "output_type": "execute_result",
          "data": {
            "text/plain": [
              "3"
            ]
          },
          "metadata": {
            "tags": []
          },
          "execution_count": 1
        }
      ]
    },
    {
      "cell_type": "code",
      "metadata": {
        "id": "2ORyaLuqEkN4",
        "colab_type": "code",
        "colab": {},
        "outputId": "8ce42d2c-86c5-4e18-c543-50748762d0de"
      },
      "source": [
        "1 + 2"
      ],
      "execution_count": null,
      "outputs": [
        {
          "output_type": "execute_result",
          "data": {
            "text/plain": [
              "3"
            ]
          },
          "metadata": {
            "tags": []
          },
          "execution_count": 2
        }
      ]
    },
    {
      "cell_type": "code",
      "metadata": {
        "id": "yWZAb7EyEkN7",
        "colab_type": "code",
        "colab": {},
        "outputId": "aa5b4690-c37d-440a-c59a-78ef44d0140c"
      },
      "source": [
        "10 - 5"
      ],
      "execution_count": null,
      "outputs": [
        {
          "output_type": "execute_result",
          "data": {
            "text/plain": [
              "5"
            ]
          },
          "metadata": {
            "tags": []
          },
          "execution_count": 3
        }
      ]
    },
    {
      "cell_type": "code",
      "metadata": {
        "id": "aK0kEBXUEkN-",
        "colab_type": "code",
        "colab": {},
        "outputId": "c2cfc91d-6488-4672-a17b-c6c7c3099531"
      },
      "source": [
        "10 - 2*2"
      ],
      "execution_count": null,
      "outputs": [
        {
          "output_type": "execute_result",
          "data": {
            "text/plain": [
              "6"
            ]
          },
          "metadata": {
            "tags": []
          },
          "execution_count": 15
        }
      ]
    },
    {
      "cell_type": "code",
      "metadata": {
        "id": "jwLRgTXgEkOB",
        "colab_type": "code",
        "colab": {},
        "outputId": "25d1bbc2-cab1-4109-ccb2-78baa554c564"
      },
      "source": [
        "(10 - 2) *2"
      ],
      "execution_count": null,
      "outputs": [
        {
          "output_type": "execute_result",
          "data": {
            "text/plain": [
              "16"
            ]
          },
          "metadata": {
            "tags": []
          },
          "execution_count": 16
        }
      ]
    },
    {
      "cell_type": "code",
      "metadata": {
        "id": "zivqKR0HEkOE",
        "colab_type": "code",
        "colab": {},
        "outputId": "93a4f5ff-b965-4001-eb1f-daa0becbc7f7"
      },
      "source": [
        "(10 - 2)*2 / 4"
      ],
      "execution_count": null,
      "outputs": [
        {
          "output_type": "execute_result",
          "data": {
            "text/plain": [
              "4.0"
            ]
          },
          "metadata": {
            "tags": []
          },
          "execution_count": 17
        }
      ]
    },
    {
      "cell_type": "code",
      "metadata": {
        "id": "iD4hmUI8EkOH",
        "colab_type": "code",
        "colab": {},
        "outputId": "92790cb8-37df-4497-ed17-ac01162211fb"
      },
      "source": [
        "5 / 2"
      ],
      "execution_count": null,
      "outputs": [
        {
          "output_type": "execute_result",
          "data": {
            "text/plain": [
              "2.5"
            ]
          },
          "metadata": {
            "tags": []
          },
          "execution_count": 18
        }
      ]
    },
    {
      "cell_type": "code",
      "metadata": {
        "id": "mIFUdDuEEkOK",
        "colab_type": "code",
        "colab": {},
        "outputId": "590f7fcb-44e4-47c9-b377-4c47ea5d5ad2"
      },
      "source": [
        "5 // 2"
      ],
      "execution_count": null,
      "outputs": [
        {
          "output_type": "execute_result",
          "data": {
            "text/plain": [
              "2"
            ]
          },
          "metadata": {
            "tags": []
          },
          "execution_count": 19
        }
      ]
    },
    {
      "cell_type": "code",
      "metadata": {
        "id": "yq5rDiGTEkON",
        "colab_type": "code",
        "colab": {},
        "outputId": "e6efb70b-e6f8-4a2c-e294-7d702552219e"
      },
      "source": [
        "5 % 2"
      ],
      "execution_count": null,
      "outputs": [
        {
          "output_type": "execute_result",
          "data": {
            "text/plain": [
              "1"
            ]
          },
          "metadata": {
            "tags": []
          },
          "execution_count": 20
        }
      ]
    },
    {
      "cell_type": "markdown",
      "metadata": {
        "id": "7o86m80MEkOQ",
        "colab_type": "text"
      },
      "source": [
        "### 変数とは？\n",
        "\n",
        "データを保存するためのラベル付きのボックスと考えましょう。\n",
        "\n",
        "ラベルは、中身がわからなくても、後で参照するための工夫です。\n",
        "\n",
        "このラベル付きのボックスに、数値を入れてみましょう。"
      ]
    },
    {
      "cell_type": "markdown",
      "metadata": {
        "id": "UQKigSkzEkOQ",
        "colab_type": "text"
      },
      "source": [
        "<a href=\"https://diveintocode.gyazo.com/0119437ad010722fe17b8021b40e848d\"><img src=\"https://t.gyazo.com/teams/diveintocode/0119437ad010722fe17b8021b40e848d.png\" alt=\"Image from Gyazo\" width=\"500\"/></a>\n",
        "\n"
      ]
    },
    {
      "cell_type": "code",
      "metadata": {
        "id": "4ZSxg5CsEkOR",
        "colab_type": "code",
        "colab": {}
      },
      "source": [
        "myNum = 4"
      ],
      "execution_count": null,
      "outputs": []
    },
    {
      "cell_type": "code",
      "metadata": {
        "id": "j8NW1HNyEkOT",
        "colab_type": "code",
        "colab": {},
        "outputId": "1850d7d7-64cd-4e58-bceb-3d7faf374cb1"
      },
      "source": [
        "myNum"
      ],
      "execution_count": null,
      "outputs": [
        {
          "output_type": "execute_result",
          "data": {
            "text/plain": [
              "4"
            ]
          },
          "metadata": {
            "tags": []
          },
          "execution_count": 40
        }
      ]
    },
    {
      "cell_type": "code",
      "metadata": {
        "id": "95U9kyHTEkOW",
        "colab_type": "code",
        "colab": {}
      },
      "source": [
        "myNum = 1000"
      ],
      "execution_count": null,
      "outputs": []
    },
    {
      "cell_type": "code",
      "metadata": {
        "id": "rCAZnxkqEkOY",
        "colab_type": "code",
        "colab": {},
        "outputId": "ee9f9051-1f3e-477d-acef-6e3eeb5679a5"
      },
      "source": [
        "myNum"
      ],
      "execution_count": null,
      "outputs": [
        {
          "output_type": "execute_result",
          "data": {
            "text/plain": [
              "1000"
            ]
          },
          "metadata": {
            "tags": []
          },
          "execution_count": 46
        }
      ]
    },
    {
      "cell_type": "code",
      "metadata": {
        "id": "aW7gUoIIEkOa",
        "colab_type": "code",
        "colab": {}
      },
      "source": [
        "width = 20\n",
        "height = 30"
      ],
      "execution_count": null,
      "outputs": []
    },
    {
      "cell_type": "code",
      "metadata": {
        "id": "9OrJ4_n9EkOc",
        "colab_type": "code",
        "colab": {},
        "outputId": "65f43cde-1cc4-40a5-fc3e-10c7a2074412"
      },
      "source": [
        "width * height"
      ],
      "execution_count": null,
      "outputs": [
        {
          "output_type": "execute_result",
          "data": {
            "text/plain": [
              "600"
            ]
          },
          "metadata": {
            "tags": []
          },
          "execution_count": 26
        }
      ]
    },
    {
      "cell_type": "code",
      "metadata": {
        "id": "636STJFbEkOe",
        "colab_type": "code",
        "colab": {},
        "outputId": "aabf2c99-e8d7-471c-9207-3f6b2fb80faf"
      },
      "source": [
        "depth"
      ],
      "execution_count": null,
      "outputs": [
        {
          "output_type": "error",
          "ename": "NameError",
          "evalue": "name 'depth' is not defined",
          "traceback": [
            "\u001b[0;31m---------------------------------------------------------------------------\u001b[0m",
            "\u001b[0;31mNameError\u001b[0m                                 Traceback (most recent call last)",
            "\u001b[0;32m<ipython-input-27-15a3e886aba1>\u001b[0m in \u001b[0;36m<module>\u001b[0;34m\u001b[0m\n\u001b[0;32m----> 1\u001b[0;31m \u001b[0mdepth\u001b[0m\u001b[0;34m\u001b[0m\u001b[0;34m\u001b[0m\u001b[0m\n\u001b[0m",
            "\u001b[0;31mNameError\u001b[0m: name 'depth' is not defined"
          ]
        }
      ]
    },
    {
      "cell_type": "code",
      "metadata": {
        "id": "D00wMnmzEkOg",
        "colab_type": "code",
        "colab": {}
      },
      "source": [
        "depth = 100"
      ],
      "execution_count": null,
      "outputs": []
    },
    {
      "cell_type": "code",
      "metadata": {
        "id": "GA8bc8VgEkOi",
        "colab_type": "code",
        "colab": {},
        "outputId": "a35e187b-9a9f-495c-9fc8-d0a48fa27fcf"
      },
      "source": [
        "depth + _"
      ],
      "execution_count": null,
      "outputs": [
        {
          "output_type": "execute_result",
          "data": {
            "text/plain": [
              "700"
            ]
          },
          "metadata": {
            "tags": []
          },
          "execution_count": 29
        }
      ]
    },
    {
      "cell_type": "code",
      "metadata": {
        "id": "uKr3TCQsEkOl",
        "colab_type": "code",
        "colab": {},
        "outputId": "9249eb37-286c-4992-8543-ede03de9e0b9"
      },
      "source": [
        "depth + _"
      ],
      "execution_count": null,
      "outputs": [
        {
          "output_type": "execute_result",
          "data": {
            "text/plain": [
              "800"
            ]
          },
          "metadata": {
            "tags": []
          },
          "execution_count": 30
        }
      ]
    },
    {
      "cell_type": "code",
      "metadata": {
        "id": "24b90M43EkOn",
        "colab_type": "code",
        "colab": {}
      },
      "source": [
        ""
      ],
      "execution_count": null,
      "outputs": []
    },
    {
      "cell_type": "code",
      "metadata": {
        "id": "sMNcNamGI3oS",
        "colab_type": "code",
        "colab": {}
      },
      "source": [
        ""
      ],
      "execution_count": null,
      "outputs": []
    },
    {
      "cell_type": "markdown",
      "metadata": {
        "id": "UdrlPOhBJxH9",
        "colab_type": "text"
      },
      "source": [
        "---\n",
        "\n",
        "<a href=\"https://diveintocode.gyazo.com/dd25c3a16420f09bdaafd63c443d368d\"><img src=\"https://t.gyazo.com/teams/diveintocode/dd25c3a16420f09bdaafd63c443d368d.png\" alt=\"Image from Gyazo\" width=\"300\"/></a>"
      ]
    },
    {
      "cell_type": "markdown",
      "metadata": {
        "id": "aptyD8ErI6-g",
        "colab_type": "text"
      },
      "source": [
        ">### 計算式を作ってみよう\n",
        "上の表の演算子を使って計算式の例を5つ作ってみよう\n",
        "\n",
        "**例**\n",
        "\n",
        "```\n",
        "3 * 3.75 / 1.5\n",
        "```"
      ]
    },
    {
      "cell_type": "markdown",
      "metadata": {
        "id": "cN2DbV-YJEBE",
        "colab_type": "text"
      },
      "source": [
        ">### 小数表現を作ってみよう\n",
        "小数第何位まで表示されるかな？\n",
        "\n",
        "**例**\n",
        "```\n",
        "2 / 3\n",
        "```\n"
      ]
    },
    {
      "cell_type": "markdown",
      "metadata": {
        "id": "tfkWfpdPML2b",
        "colab_type": "text"
      },
      "source": [
        ">### 変数に数値を代入しよう\n",
        "\n",
        "**例**\n",
        "\n",
        "```\n",
        "tax = 12.5 / 100\n",
        "price = 100.50\n",
        "```\n",
        "price * tax　はいくつになる？"
      ]
    }
  ]
}