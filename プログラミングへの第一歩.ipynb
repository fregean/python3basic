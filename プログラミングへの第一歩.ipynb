{
 "cells": [
  {
   "cell_type": "markdown",
   "metadata": {},
   "source": [
    "<a href=\"https://colab.research.google.com/github/fregean/python3basic/blob/master/while.ipynb\" target=\"_parent\"><img src=\"https://colab.research.google.com/assets/colab-badge.svg\" alt=\"Open In Colab\"/></a>"
   ]
  },
  {
   "cell_type": "markdown",
   "metadata": {},
   "source": [
    ">## プログラミングへの第一歩\n",
    "フィボナッチ数列をPythonで生成してみよう\n",
    "\n"
   ]
  },
  {
   "cell_type": "markdown",
   "metadata": {},
   "source": [
    "フィボナッチ数列は以下のような数列です。<br>\n",
    "\n",
    "<span style=\"color: #d61b09\">0</span>、<span style=\"color: #d61b09\">1</span>、1、2、3、5、8、13、21、34...<br>\n",
    "\n",
    "フィボナッチ数列の最初は<span style=\"color: #d61b09\">0</span>と<span style=\"color: #d61b09\">1</span>の2つの数値から始まります。<br>\n",
    "3番目の数値より後は、前の2つの数値の<mark>合計</mark>になります。<br>\n",
    "\n",
    "\n",
    "<span style=\"color: #d61b09\">0</span>、<span style=\"color: #d61b09\">1</span>、<mark>1</mark><br>\n",
    "<br>\n",
    "\n",
    "0、<span style=\"color: #d61b09\">1</span>、<span style=\"color: #d61b09\">1</span>、<mark>2</mark><br>\n",
    "<br>\n",
    "\n",
    "0、1、<span style=\"color: #d61b09\">1</span>、<span style=\"color: #d61b09\">2</span>、<mark>3</mark><br>\n",
    "<br>\n",
    "\n",
    "0、1、1、<span style=\"color: #d61b09\">2</span>、<span style=\"color: #d61b09\">3</span>、<mark>5</mark><br>\n",
    "...\n"
   ]
  },
  {
   "cell_type": "markdown",
   "metadata": {},
   "source": [
    "### Pythonチュートリアルのフィボナッチ数列のコードを実行してみよう"
   ]
  },
  {
   "cell_type": "code",
   "execution_count": null,
   "metadata": {},
   "outputs": [],
   "source": [
    "# Pythonチュートリアルのコード\n",
    "\n",
    "a, b = 0, 1\n",
    "while a < 10:\n",
    "    print(a)\n",
    "    a, b = b, a+b"
   ]
  },
  {
   "cell_type": "markdown",
   "metadata": {},
   "source": [
    "10までのフィボナッチ数列が出力されました！<br>\n",
    "この時間のゴールは、このコードが理解できることです\n",
    "\n",
    "---\n",
    "\n",
    "### それではコードを読み解いてみよう\n",
    "\n",
    "#### 上のコードには、いくらか新しい機能が登場しています\n",
    "\n",
    "まず、<span style=\"color: #d61b09\">while文</span>という**条件式が成立する限り繰り返し処理を行う文法**を学ぼう"
   ]
  },
  {
   "cell_type": "markdown",
   "metadata": {},
   "source": [
    "### while文とは\n",
    "\n",
    "whileの後ろに記述された**式の値**が<span style=\"color: #d61b09\">真</span>である限り、実行を繰り返すようなコードを書くときに用います\n",
    "\n",
    "ここでいう**式**とは、以下のような関係を表す演算子を用いた「a == 10（aは10と等しい）」や「a <= 20（aは20より小さいか等しい）」のような関係式です。\n",
    "\n",
    "条件を記述するための関係式は、それが成り立つか否か、つまり、<span style=\"color: #d61b09\">真（True）</span>か<span style=\"color: #d61b09\">偽（False）</span>かを判定できる式でなければなりません。"
   ]
  },
  {
   "cell_type": "markdown",
   "metadata": {},
   "source": [
    "|関係演算子|関係|\n",
    "| ---- | ---- |\n",
    "|<|\t右辺より小さい |\n",
    "|>|右辺より大きい|\n",
    "|<=|右辺より小さいか等しい|\n",
    "|>=|右辺より大きいか等しい|\n",
    "|==|等しい|\n",
    "|!=|等しくない|\n",
    "\n",
    "ちなみに<span style=\"color: #d61b09\">代入演算子「=」</span>は関係演算子に含まれないことに注意してください！\n",
    "\n",
    "while文は、関係式の値が真であるという条件を満たしている間は、while文の**処理範囲（ブロック）にあるコードを実行し続けます**。\n",
    "\n",
    "**ブロック**は、以下の図にある<span style=\"color: #d61b09\">赤い枠</span>で**囲まれた範囲**にあるグループ化されたコード群のことです。\n",
    "\n",
    "このブロックは、**インデントと呼ばれる字下げ（半角スペース４つ）**（<span style=\"color: #2357b5\">水色の領域</span>）をコードの先頭に打ち込むことで作成できます。\n",
    "\n",
    "また「while」 と「関係式」を並べた後ろには必ず**コロン**を記述するというルールもあります。"
   ]
  },
  {
   "cell_type": "markdown",
   "metadata": {},
   "source": [
    "<a href=\"https://diveintocode.gyazo.com/13bf87d276298abd91157055ed5f1cc2\"><img src=\"https://t.gyazo.com/teams/diveintocode/13bf87d276298abd91157055ed5f1cc2.png\" alt=\"Image from Gyazo\" width=\"300\"/></a>"
   ]
  },
  {
   "cell_type": "markdown",
   "metadata": {},
   "source": [
    "繰り返しますが、while文は、関係式の値が真であるという条件を満たしている間は、while文の**処理範囲（ブロック）にあるコードを実行し続けます**。\n",
    "\n",
    "ゆえに以下のようなwhile文を書かないように注意してください。"
   ]
  },
  {
   "cell_type": "code",
   "execution_count": null,
   "metadata": {
    "scrolled": true
   },
   "outputs": [],
   "source": [
    "# やってはいけない\n",
    "# 実行が終わらない\n",
    "\n",
    "a = 0\n",
    "\n",
    "while a < 10:\n",
    "    print(a)"
   ]
  },
  {
   "cell_type": "markdown",
   "metadata": {},
   "source": [
    "> 処理が止まらなくなったら、colabノートブックのメニューバーにある「ランタイム」から「実行を中断」ボタンを押して、実行を止めてください\n",
    "\n",
    "<a href=\"https://diveintocode.gyazo.com/6c99b3e6dd17c37a6c80a8fed8a535df\"><img src=\"https://t.gyazo.com/teams/diveintocode/6c99b3e6dd17c37a6c80a8fed8a535df.png\" alt=\"Image from Gyazo\" width=\"300\"/></a>"
   ]
  },
  {
   "cell_type": "markdown",
   "metadata": {},
   "source": [
    "### 右辺で計算した値で左辺の変数 a を更新してみよう"
   ]
  },
  {
   "cell_type": "code",
   "execution_count": null,
   "metadata": {},
   "outputs": [],
   "source": [
    "# 変数 a に 0 を代入する\n",
    "a = 0\n",
    "\n",
    "print(a) # 0\n",
    "\n",
    "# 変数 a に a+1 (0 +1)を代入する。（つまり a の参照する先を更新する）\n",
    "a = a + 1\n",
    "\n",
    "print('更新後：', a)  # 1  "
   ]
  },
  {
   "cell_type": "code",
   "execution_count": null,
   "metadata": {},
   "outputs": [],
   "source": [
    "# 変数 a に 2 を代入する\n",
    "a = 2\n",
    "\n",
    "print(a) # 2\n",
    "\n",
    "# 変数 a に a+1 (2 +1)を代入する。（つまり a の参照する先を更新する）\n",
    "a = a + 1 \n",
    "\n",
    "print('更新後：', a) # 3 "
   ]
  },
  {
   "cell_type": "markdown",
   "metadata": {},
   "source": [
    "### while条件文を満たす間、変数 a を更新し続けてみる "
   ]
  },
  {
   "cell_type": "code",
   "execution_count": null,
   "metadata": {},
   "outputs": [],
   "source": [
    "# 変数 a に 0 を代入する\n",
    "a = 0\n",
    "\n",
    "# aが10より小さい間は、aの値を更新し続ける\n",
    "while a < 10:\n",
    "    \n",
    "    print(a)\n",
    "    \n",
    "    a = a + 1    "
   ]
  },
  {
   "cell_type": "markdown",
   "metadata": {},
   "source": [
    "### フィボナッチ数列を生成しよう（まずはコードセルに変数の更新式を一回一回記述して手動で更新する）"
   ]
  },
  {
   "cell_type": "code",
   "execution_count": null,
   "metadata": {},
   "outputs": [],
   "source": [
    "# フィボナッチ数列の始まりの数値を変数a、bに入れてみよう\n",
    "# さらに、その次にくる数値（数列の３番目）を計算しよう。つまり、 a + b を計算します。\n",
    "# この計算結果を変数 c に代入して 変数　c をprintしてみよう。\n",
    "\n",
    "a = 0\n",
    "b = 1\n",
    "\n",
    "c = a + b # c : 1\n",
    "\n",
    "print(a)"
   ]
  },
  {
   "cell_type": "code",
   "execution_count": null,
   "metadata": {},
   "outputs": [],
   "source": [
    "# 次は、変数 a と b を、フィボナッチ数列の2番目と3番目の数値で上書きしよう\n",
    "# ３番目の数値は c に格納されています\n",
    "\n",
    "a = b  # 先ほど、bに格納されていた数値 : 1\n",
    "b = c  # 先ほど、c に格納されていた数値 : 1\n",
    "\n",
    "c = a + b # さらに、新しく更新された a と b を合計した結果で c を上書きする。c : 2\n",
    "\n",
    "print(a)"
   ]
  },
  {
   "cell_type": "code",
   "execution_count": null,
   "metadata": {},
   "outputs": [],
   "source": [
    "# 次は、変数 a と b を、フィボナッチ数列の3番目と4番目の数値で上書きしよう\n",
    "# 4番目の数値は c に格納されています\n",
    "\n",
    "a = b  # 先ほど、bに格納されていた数値 : 1\n",
    "b = c  # 先ほど、c に格納されていた数値 : 2\n",
    "\n",
    "c = a + b # c : 3\n",
    "\n",
    "print(a)"
   ]
  },
  {
   "cell_type": "code",
   "execution_count": null,
   "metadata": {},
   "outputs": [],
   "source": [
    "# 次は、変数 a と b を、フィボナッチ数列の4番目と5番目の数値で上書きしよう\n",
    "# 5番目の数値は c に格納されています\n",
    "\n",
    "a = b  # 先ほど、b に格納されていた数値 : 2\n",
    "b = c  # 先ほど、c に格納されていた数値 : 3\n",
    "\n",
    "c = a + b # c : 5\n",
    "\n",
    "print(a)"
   ]
  },
  {
   "cell_type": "markdown",
   "metadata": {},
   "source": [
    "### フィボナッチ数列を生成しよう（while文の条件式を満たす間、繰り返し自動更新させる）"
   ]
  },
  {
   "cell_type": "code",
   "execution_count": null,
   "metadata": {},
   "outputs": [],
   "source": [
    "# 「while a < 10:」 という条件が成り立つ（真になる）間、a と b と c の値を入れ替えながら、フィボナッチ数列を生成しよう\n",
    "# フィボナッチ数列の先頭の0が表示されない。また、条件式で10までのフィボナッチ数列と制約を設けたのに、10を超えている\n",
    "\n",
    "a = 0\n",
    "b = 1\n",
    "\n",
    "while a < 10:\n",
    "    \n",
    "    c = a + b # aとbの合計をcに代入する\n",
    "    \n",
    "    a = b # aをbで上書きする\n",
    "    b = c # bをcで上書きする\n",
    "\n",
    "    print(a)"
   ]
  },
  {
   "cell_type": "code",
   "execution_count": null,
   "metadata": {},
   "outputs": [],
   "source": [
    "# printの順序を変えてみよう\n",
    "# 先頭の0から10までのフィボナッチ数列がきちんと出力されるようになった\n",
    "\n",
    "a = 0\n",
    "b = 1\n",
    "\n",
    "while a < 10:\n",
    "    \n",
    "    print(a) # 変数の上書きの前にprintする\n",
    "    \n",
    "    c = a + b # aとbの合計をcに代入する\n",
    "    \n",
    "    a = b # aをbで上書きする\n",
    "    b = c # bをcで上書きする\n",
    "    "
   ]
  },
  {
   "cell_type": "markdown",
   "metadata": {},
   "source": [
    "### ここで、Pythonチュートリアルのコードをもう一度振り返ってみる\n",
    "\n",
    "変数が a と b だけで計算できている。\n",
    "\n",
    "なぜだろう ？\n",
    "\n",
    "→多重代入という機能を用いている。"
   ]
  },
  {
   "cell_type": "code",
   "execution_count": null,
   "metadata": {},
   "outputs": [],
   "source": [
    "# Pythonチュートリアルのコード\n",
    "# 多重代入（複数の変数へ同時に代入する）を用いている\n",
    "\n",
    "a, b = 0, 1\n",
    "\n",
    "while a < 10:\n",
    "\n",
    "    print(a)\n",
    "    \n",
    "    a, b = b, a+b"
   ]
  },
  {
   "cell_type": "code",
   "execution_count": null,
   "metadata": {},
   "outputs": [],
   "source": [
    "# Pythonチュートリアルのコード\n",
    "# 多重代入（複数の変数へ同時に代入する）を用いなかった場合はこうなる\n",
    "\n",
    "# フィボナッチ数列が出力されない！\n",
    "\n",
    "a, b = 0, 1\n",
    "\n",
    "while a < 10:\n",
    "\n",
    "    print(a)\n",
    "    \n",
    "    a = b\n",
    "    b = a+b"
   ]
  },
  {
   "cell_type": "markdown",
   "metadata": {},
   "source": [
    "Pythonチュートリアルは単に記述が完結だという理由ではなく、\n",
    "計算上の利点から多重代入の記述を用いているようだ。\n",
    "\n",
    "### 多重代入の事例を考えてみる"
   ]
  },
  {
   "cell_type": "code",
   "execution_count": null,
   "metadata": {},
   "outputs": [],
   "source": [
    "# まずは数値を多重代入してみる\n",
    "\n",
    "x, y = 1, 2\n",
    "\n",
    "print(x)\n",
    "print(y)"
   ]
  },
  {
   "cell_type": "code",
   "execution_count": null,
   "metadata": {},
   "outputs": [],
   "source": [
    "# 今度は数値と計算結果を多重代入してみる\n",
    "\n",
    "x = 100\n",
    "\n",
    "x, y = 2, x+1 #  x+1のなかの x は、まだ100が格納された状態\n",
    "\n",
    "print(x)\n",
    "print(y)\n",
    "\n",
    "# イコールで代入する前に、イコールの右側の計算を先に行っている"
   ]
  },
  {
   "cell_type": "code",
   "execution_count": null,
   "metadata": {},
   "outputs": [],
   "source": [
    "x = 100\n",
    "\n",
    "x = 2\n",
    "y = x+1 # この x+1 のなかの x の参照する値は更新されている。つまり 2\n",
    "\n",
    "print(x)\n",
    "print(y)"
   ]
  },
  {
   "cell_type": "code",
   "execution_count": null,
   "metadata": {},
   "outputs": [],
   "source": [
    "# 今度は変数と計算結果を多重代入してみる\n",
    "\n",
    "a = 2\n",
    "b = 50\n",
    "\n",
    "a, b = b, a+b # a+b のなかの a はまだ　2　が格納されている\n",
    "\n",
    "print(a)\n",
    "print(b)"
   ]
  },
  {
   "cell_type": "code",
   "execution_count": null,
   "metadata": {},
   "outputs": [],
   "source": [
    "# 多重代入を用いない場合はこうなる\n",
    "\n",
    "a = 2\n",
    "b = 50\n",
    "\n",
    "a = b\n",
    "b = a+b # a+b のなかの a の参照する値は　50　に更新されている\n",
    "\n",
    "print(a)\n",
    "print(b)"
   ]
  },
  {
   "cell_type": "code",
   "execution_count": null,
   "metadata": {},
   "outputs": [],
   "source": [
    "# 多重代入を用いない場合は、a の参照先が更新される前に その最初の値（つまり 2）を参照する c という変数を用意してあげる\n",
    "\n",
    "a = 2\n",
    "b = 50\n",
    "\n",
    "c = a　# まずはじめに、a の値を参照する c という変数を導入する\n",
    "\n",
    "a = b\n",
    "b = c+b\n",
    "\n",
    "print(a)\n",
    "print(b)"
   ]
  },
  {
   "cell_type": "markdown",
   "metadata": {},
   "source": [
    "### 多重代入のおかげで、２つの変数 a と b だけでフィボナッチ数列を生成できることがわかった"
   ]
  },
  {
   "cell_type": "code",
   "execution_count": null,
   "metadata": {},
   "outputs": [],
   "source": [
    "# Pythonチュートリアルのコード\n",
    "# 多重代入（複数の変数へ同時に代入する）を用いる\n",
    "\n",
    "a, b = 0, 1\n",
    "while a < 10:\n",
    "    print(a)\n",
    "    a, b = b, a+b"
   ]
  },
  {
   "cell_type": "code",
   "execution_count": null,
   "metadata": {},
   "outputs": [],
   "source": []
  },
  {
   "cell_type": "markdown",
   "metadata": {},
   "source": [
    "### おまけ\n",
    "\n",
    "フィボナッチ数列を数学的に表すと、\n",
    "\n",
    "<span style=\"color: #d61b09\">$A_{0}$</span>$=0$<br>\n",
    "<span style=\"color: #d61b09\">$A_{1}$</span>$=1$<br>\n",
    "\n",
    "<mark>$A_{2}$</mark>$=$<span style=\"color: #d61b09\">$A_{1}$</span>$+$<span style=\"color: #d61b09\">$A_{0}$</span><br>\n",
    "\n",
    "となります。\n",
    "\n",
    "さらに、前の項から次の項を求めるこの規則を一般化して表すと、\n",
    "\n",
    "<mark>$A_{n+2}$</mark>$=$<span style=\"color: #d61b09\">$A_{n+1}$</span>+<span style=\"color: #d61b09\">$A_{n}$</span> $\\quad (n \\geq 0)$\n",
    "\n",
    "となります。\n",
    "\n",
    "参考：[wikipedia フィボナッチ数列](https://ja.wikipedia.org/wiki/%E3%83%95%E3%82%A3%E3%83%9C%E3%83%8A%E3%83%83%E3%83%81%E6%95%B0)"
   ]
  },
  {
   "cell_type": "code",
   "execution_count": null,
   "metadata": {},
   "outputs": [],
   "source": []
  }
 ],
 "metadata": {
  "kernelspec": {
   "display_name": "Python 3",
   "language": "python",
   "name": "python3"
  },
  "language_info": {
   "codemirror_mode": {
    "name": "ipython",
    "version": 3
   },
   "file_extension": ".py",
   "mimetype": "text/x-python",
   "name": "python",
   "nbconvert_exporter": "python",
   "pygments_lexer": "ipython3",
   "version": "3.7.3"
  }
 },
 "nbformat": 4,
 "nbformat_minor": 2
}
