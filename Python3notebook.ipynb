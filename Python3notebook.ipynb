{
  "nbformat": 4,
  "nbformat_minor": 0,
  "metadata": {
    "accelerator": "GPU",
    "colab": {
      "name": "Python3notebook",
      "provenance": [],
      "collapsed_sections": [],
      "toc_visible": true
    },
    "kernelspec": {
      "display_name": "Python 3",
      "language": "python",
      "name": "python3"
    },
    "language_info": {
      "codemirror_mode": {
        "name": "ipython",
        "version": 3
      },
      "file_extension": ".py",
      "mimetype": "text/x-python",
      "name": "python",
      "nbconvert_exporter": "python",
      "pygments_lexer": "ipython3",
      "version": "3.6.8"
    },
    "latex_envs": {
      "LaTeX_envs_menu_present": true,
      "autoclose": false,
      "autocomplete": true,
      "bibliofile": "biblio.bib",
      "cite_by": "apalike",
      "current_citInitial": 1,
      "eqLabelWithNumbers": true,
      "eqNumInitial": 1,
      "hotkeys": {
        "equation": "Ctrl-E",
        "itemize": "Ctrl-I"
      },
      "labels_anchors": false,
      "latex_user_defs": false,
      "report_style_numbering": false,
      "user_envs_cfg": false
    },
    "toc": {
      "base_numbering": 1,
      "nav_menu": {},
      "number_sections": true,
      "sideBar": true,
      "skip_h1_title": false,
      "title_cell": "Table of Contents",
      "title_sidebar": "Contents",
      "toc_cell": false,
      "toc_position": {},
      "toc_section_display": true,
      "toc_window_display": false
    }
  },
  "cells": [
    {
      "cell_type": "markdown",
      "metadata": {
        "id": "HYOPI0OfdEG0",
        "colab_type": "text"
      },
      "source": [
        "<a href=\"https://colab.research.google.com/github/fregean/python3basic/blob/master/Python3notebook.ipynb\" target=\"_parent\"><img src=\"https://colab.research.google.com/assets/colab-badge.svg\" alt=\"Open In Colab\"/></a>"
      ]
    },
    {
      "cell_type": "markdown",
      "metadata": {
        "colab_type": "text",
        "id": "28S76DVlfCMZ"
      },
      "source": [
        "# Python３エンジニア認定基礎試験講座\n",
        "\n",
        "###（体験クラス用）"
      ]
    },
    {
      "cell_type": "code",
      "metadata": {
        "colab_type": "code",
        "id": "ciV9F5dEXxnP",
        "colab": {}
      },
      "source": [
        "#@title OUT_総合\n",
        "\n",
        "\n",
        "\n",
        "\n",
        "\n",
        "\n"
      ],
      "execution_count": null,
      "outputs": []
    },
    {
      "cell_type": "markdown",
      "metadata": {
        "id": "aapEiFEAlrR7",
        "colab_type": "text"
      },
      "source": [
        "### １. EXAMの問題を５問解きましょう（制限時間１分 × ５問）\n",
        "\n",
        "以下のリンクから受験ページへアクセスしてください。\n",
        "\n",
        "\n",
        "http://192.168.100.9:3000/exam\n",
        "\n",
        "---"
      ]
    },
    {
      "cell_type": "code",
      "metadata": {
        "id": "hQc4_m5sjA8J",
        "colab_type": "code",
        "colab": {}
      },
      "source": [
        "#@title IN_見る＆聞く\n",
        "\n",
        "\n",
        "\n",
        "\n",
        "\n",
        "\n",
        "\n",
        "\n"
      ],
      "execution_count": null,
      "outputs": []
    },
    {
      "cell_type": "markdown",
      "metadata": {
        "id": "V5I6ngqcLjcb",
        "colab_type": "text"
      },
      "source": [
        "### ２. 動画を見てみましょう（制限時間10分）\n",
        "\n",
        "以下のページから動画にアクセスしてください。\n",
        "\n",
        "\n",
        "\n",
        "---"
      ]
    },
    {
      "cell_type": "markdown",
      "metadata": {
        "id": "w3QAKLN4un07",
        "colab_type": "text"
      },
      "source": [
        "<p><img alt=\"Colaboratory logo\" height=\"45px\" src=\"/img/colab_favicon.ico\" align=\"left\" hspace=\"10px\" vspace=\"0px\"></p>\n",
        "\n",
        "<h1>Colaboratory とは</h1>\n",
        "\n",
        "Colaboratory（略称: Colab）では、ブラウザから Python を記述し実行できるほか、次の特長を備えています。 \n",
        "- 構成が不要\n",
        "- GPU への無料アクセス\n",
        "- 簡単に共有\n",
        "\n",
        "Colab は、<strong>学生</strong>、<strong>データ サイエンティスト</strong>、<strong>AI リサーチャー</strong>の皆さんの作業を効率化します。詳しくは、<a href=\"https://www.youtube.com/watch?v=inN8seMm7UI\">Colab のご紹介</a>をご覧ください。下からすぐに使ってみることもできます。"
      ]
    },
    {
      "cell_type": "markdown",
      "metadata": {
        "id": "pd9RamwRuoOf",
        "colab_type": "text"
      },
      "source": [
        "## <strong>はじめに</strong>\n",
        "\n",
        "ご覧になっているドキュメントは静的なウェブページではなく、<strong>Colab ノートブック</strong>という、コードを記述して実行できるインタラクティブな環境です。\n",
        "\n",
        "たとえば次の<strong>コードセル</strong>には、値を計算して変数に保存し、結果を出力する短い Python スクリプトが含まれています。"
      ]
    },
    {
      "cell_type": "markdown",
      "metadata": {
        "id": "ckN7nZnHu9_L",
        "colab_type": "text"
      },
      "source": [
        ">## 数値\n",
        "<strong>定数</strong>と<strong>変数</strong>\n",
        "\n"
      ]
    },
    {
      "cell_type": "markdown",
      "metadata": {
        "id": "9RqmSMnGTVDY",
        "colab_type": "text"
      },
      "source": [
        "- 定数を計算する\n",
        "  - 数字の並びを作る\n",
        "  - 数式を作る\n",
        "  - int型（整数型）とfloat型（浮動小数点数型）を使う\n",
        "  - 操作の順序を制御する\n",
        "- 変数を作る\n",
        "  - 変数に代入する\n",
        "- ほかの<strong>数値型</strong> を知る"
      ]
    },
    {
      "cell_type": "markdown",
      "metadata": {
        "id": "8820tLNvvGU3",
        "colab_type": "text"
      },
      "source": [
        "---\n",
        "|演算|演算子|記法|結果|\n",
        "| ---- | ---- | ---- | ---- | \n",
        "|足し算|+|\t10 + 5 | 15 |\n",
        "|引き算\t|–|5 – 10 | -5 | \n",
        "|掛け算|*|\t3 * 6 | 18 |\n",
        "|割り算|/|\t7 / 2 | 3.5 |\n",
        "|切り捨て除算|//|\t7 // 2 | 3 |\n",
        "|余り|%|\t7 % 3 | 1 |\n",
        "|累乗|**|4**3| 64 |\n",
        "\n"
      ]
    },
    {
      "cell_type": "markdown",
      "metadata": {
        "id": "LMfFz6R4xdBd",
        "colab_type": "text"
      },
      "source": [
        ">## 文字列\n",
        "基本の<strong>シーケンス</strong>\n",
        "\n",
        "\n"
      ]
    },
    {
      "cell_type": "markdown",
      "metadata": {
        "id": "-pI_PzOATL0Q",
        "colab_type": "text"
      },
      "source": [
        "- 文字列を作る\n",
        "  - 引用符（クォート）\n",
        "  - 連結・繰り返し\n",
        "- エスケープ（文字の意味を無効化する）記法を使う\n",
        "  - print()関数\n",
        "  - 改行する\n",
        "  - エスケープ記法を無効にする\n",
        "- 変数に代入する\n",
        "- 位置を<strong>インデックス</strong>で指定する（インデクシング）\n",
        "- <strong>スライス</strong>で部分的に切り取る（スライシング）\n",
        "- <strong>変更不可能</strong>である（イミュータブル）\n",
        "  - シーケンスの性質\n",
        "\n",
        "\n",
        "<br>\n",
        "文字列の作成には引用符を用い、それらを開閉する必要があります。"
      ]
    },
    {
      "cell_type": "markdown",
      "metadata": {
        "id": "zHV9-E3O01Ip",
        "colab_type": "text"
      },
      "source": [
        "---\n",
        "|名称|記号|記法|\n",
        "| ---- | ---- | ---- | \n",
        "|一重引用符|'|'こんにちは'|\n",
        "|二重引用符|\"|\"こんにちは\"|\n",
        "|改行|\\n|\"こんにちは\\nさようなら\"|\n",
        "|raw文字列|r|r 'my\\name'|"
      ]
    },
    {
      "cell_type": "code",
      "metadata": {
        "id": "ETCq31ZJA_eq",
        "colab_type": "code",
        "colab": {}
      },
      "source": [
        "letters = 'abcdefghijklmnopqrstuvwxyz'"
      ],
      "execution_count": null,
      "outputs": []
    },
    {
      "cell_type": "markdown",
      "metadata": {
        "id": "KftW04Strxp4",
        "colab_type": "text"
      },
      "source": [
        "![string_index](https://drive.google.com/uc?export=view&id=1jpb5Ds7Z02wjOV5tAS6PJDEwKbf0NDBS)\n",
        "\n"
      ]
    },
    {
      "cell_type": "code",
      "metadata": {
        "id": "viyWi91G-iuq",
        "colab_type": "code",
        "colab": {}
      },
      "source": [
        ""
      ],
      "execution_count": null,
      "outputs": []
    },
    {
      "cell_type": "code",
      "metadata": {
        "id": "ecinOVb1-irW",
        "colab_type": "code",
        "colab": {}
      },
      "source": [
        "# 文字列型（String型）はイミュータブル（変更不能）である\n",
        "\n",
        "'''\n",
        "text1 = 'こんにちは'\n",
        "\n",
        "text1 の値を 'こんばんは' に変更しなさい。\n",
        "\n",
        "⑴ 代入する。  text1 = 'こんばんは'　　　　　　　　　　　　　　　　　　　　　　　　　　　　　　<---- OK\n",
        "⑵　 連結する。 text1[:2]+'ばんは' 　　　　　　　　　　　　　　　　　　　　　　　　　　　　　　　　<---- OK\n",
        "⑶ 指定位置の要素を置き換える。　text1[2:] = 'ばんは'　　　<---- NG\n",
        "\n",
        "'''\n",
        "\n",
        "text1 = 'こんにちは'\n",
        "\n",
        "text1[2:] = 'ばんは'"
      ],
      "execution_count": null,
      "outputs": []
    },
    {
      "cell_type": "code",
      "metadata": {
        "id": "TowZ5QdNdfxW",
        "colab_type": "code",
        "colab": {}
      },
      "source": [
        ""
      ],
      "execution_count": null,
      "outputs": []
    },
    {
      "cell_type": "markdown",
      "metadata": {
        "id": "BO0P5knxHV_P",
        "colab_type": "text"
      },
      "source": [
        ">## リスト\n",
        "複雑な構造をもつ<strong>シーケンス</strong>"
      ]
    },
    {
      "cell_type": "markdown",
      "metadata": {
        "id": "tcmIKmpsF6gk",
        "colab_type": "text"
      },
      "source": [
        "- リストを作る\n",
        "  - 角カッコ\n",
        "  - カンマ区切りの値（要素）\n",
        "  - 連結・繰り返し\n",
        "  - 異なる型の要素を入れる\n",
        "- 変数に代入する\n",
        "- 位置を<strong>インデックス</strong>で指定する（インデクシング）\n",
        "- <strong>スライス</strong>で部分的に切り取る（スライシング）\n",
        "- <strong><font color=\"FireBrick\">変更可能</font></strong>である（ミュータブル）\n",
        "  - シーケンスの性質\n",
        "- 末尾に要素を追加する<strong>append()</strong>メソッド\n",
        "- <strong>len()</strong>関数でリストの要素数を返す\n",
        "- リストのリスト\n"
      ]
    },
    {
      "cell_type": "code",
      "metadata": {
        "id": "_zM-6uMWfC8D",
        "colab_type": "code",
        "colab": {}
      },
      "source": [
        "weekdays = ['Monday', 'Tuesday', 'Wednesday', 'Thursday', 'Friday']"
      ],
      "execution_count": 56,
      "outputs": []
    },
    {
      "cell_type": "code",
      "metadata": {
        "id": "sE6Q1MPIh2n4",
        "colab_type": "code",
        "colab": {}
      },
      "source": [
        "months = [1, 2, 3, 4, 5, 6, 7, 8, 9, 10, 11, 12]"
      ],
      "execution_count": 58,
      "outputs": []
    },
    {
      "cell_type": "code",
      "metadata": {
        "id": "jONGnDZIqyAh",
        "colab_type": "code",
        "colab": {}
      },
      "source": [
        ""
      ],
      "execution_count": null,
      "outputs": []
    },
    {
      "cell_type": "code",
      "metadata": {
        "id": "dO80GMmjmDeL",
        "colab_type": "code",
        "colab": {}
      },
      "source": [
        "#@title OUT_話す\n",
        "\n",
        "\n",
        "\n",
        "\n",
        "\n",
        "\n",
        "\n",
        "\n"
      ],
      "execution_count": null,
      "outputs": []
    },
    {
      "cell_type": "code",
      "metadata": {
        "id": "OzQTjps-mNCk",
        "colab_type": "code",
        "colab": {}
      },
      "source": [
        "#@title IN_読む＆書く\n",
        "\n",
        "\n",
        "\n",
        "\n",
        "\n",
        "\n",
        "\n",
        "\n",
        "\n"
      ],
      "execution_count": null,
      "outputs": []
    },
    {
      "cell_type": "code",
      "metadata": {
        "id": "0iv_Oz3CmViK",
        "colab_type": "code",
        "colab": {}
      },
      "source": [
        "#@title OUT_総合\n",
        "\n",
        "\n",
        "\n",
        "\n",
        "\n",
        "\n",
        "\n",
        "\n",
        "\n"
      ],
      "execution_count": null,
      "outputs": []
    },
    {
      "cell_type": "code",
      "metadata": {
        "id": "bZxtiIbFiOew",
        "colab_type": "code",
        "colab": {}
      },
      "source": [
        ""
      ],
      "execution_count": null,
      "outputs": []
    },
    {
      "cell_type": "code",
      "metadata": {
        "id": "xKmekqkOiP1M",
        "colab_type": "code",
        "colab": {}
      },
      "source": [
        ""
      ],
      "execution_count": null,
      "outputs": []
    }
  ]
}