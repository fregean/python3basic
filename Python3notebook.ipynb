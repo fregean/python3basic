{
  "nbformat": 4,
  "nbformat_minor": 0,
  "metadata": {
    "accelerator": "GPU",
    "colab": {
      "name": "Python3notebook",
      "provenance": [],
      "collapsed_sections": [],
      "toc_visible": true
    },
    "kernelspec": {
      "display_name": "Python 3",
      "language": "python",
      "name": "python3"
    },
    "language_info": {
      "codemirror_mode": {
        "name": "ipython",
        "version": 3
      },
      "file_extension": ".py",
      "mimetype": "text/x-python",
      "name": "python",
      "nbconvert_exporter": "python",
      "pygments_lexer": "ipython3",
      "version": "3.6.8"
    },
    "latex_envs": {
      "LaTeX_envs_menu_present": true,
      "autoclose": false,
      "autocomplete": true,
      "bibliofile": "biblio.bib",
      "cite_by": "apalike",
      "current_citInitial": 1,
      "eqLabelWithNumbers": true,
      "eqNumInitial": 1,
      "hotkeys": {
        "equation": "Ctrl-E",
        "itemize": "Ctrl-I"
      },
      "labels_anchors": false,
      "latex_user_defs": false,
      "report_style_numbering": false,
      "user_envs_cfg": false
    },
    "toc": {
      "base_numbering": 1,
      "nav_menu": {},
      "number_sections": true,
      "sideBar": true,
      "skip_h1_title": false,
      "title_cell": "Table of Contents",
      "title_sidebar": "Contents",
      "toc_cell": false,
      "toc_position": {},
      "toc_section_display": true,
      "toc_window_display": false
    }
  },
  "cells": [
    {
      "cell_type": "markdown",
      "metadata": {
        "id": "HYOPI0OfdEG0",
        "colab_type": "text"
      },
      "source": [
        "<a href=\"https://colab.research.google.com/github/fregean/python3basic/blob/master/Python3notebook.ipynb\" target=\"_parent\"><img src=\"https://colab.research.google.com/assets/colab-badge.svg\" alt=\"Open In Colab\"/></a>"
      ]
    },
    {
      "cell_type": "markdown",
      "metadata": {
        "colab_type": "text",
        "id": "28S76DVlfCMZ"
      },
      "source": [
        "# Python３エンジニア認定基礎試験講座\n",
        "\n"
      ]
    },
    {
      "cell_type": "code",
      "metadata": {
        "colab_type": "code",
        "id": "ciV9F5dEXxnP",
        "colab": {}
      },
      "source": [
        "#@title OUT_総合\n",
        "\n",
        "\n",
        "\n",
        "\n",
        "\n",
        "\n"
      ],
      "execution_count": null,
      "outputs": []
    },
    {
      "cell_type": "markdown",
      "metadata": {
        "id": "aapEiFEAlrR7",
        "colab_type": "text"
      },
      "source": [
        "### １. EXAMの問題を５問解きましょう（制限時間１分 × ５問）\n",
        "\n",
        "以下のリンクから受験ページへアクセスしてください。\n",
        "\n",
        "\n",
        "http://192.168.100.9:3000/exam\n",
        "\n",
        "---"
      ]
    },
    {
      "cell_type": "code",
      "metadata": {
        "id": "hQc4_m5sjA8J",
        "colab_type": "code",
        "colab": {}
      },
      "source": [
        "#@title IN_見る＆聞く\n",
        "\n",
        "\n",
        "\n",
        "\n",
        "\n",
        "\n",
        "\n",
        "\n"
      ],
      "execution_count": null,
      "outputs": []
    },
    {
      "cell_type": "markdown",
      "metadata": {
        "id": "V5I6ngqcLjcb",
        "colab_type": "text"
      },
      "source": [
        "### ２. 動画を見てみましょう（制限時間10分）\n",
        "\n",
        "以下のページから動画にアクセスしてください。\n",
        "\n",
        "\n",
        "\n",
        "---"
      ]
    },
    {
      "cell_type": "markdown",
      "metadata": {
        "id": "w3QAKLN4un07",
        "colab_type": "text"
      },
      "source": [
        "<p><img alt=\"Colaboratory logo\" height=\"45px\" src=\"/img/colab_favicon.ico\" align=\"left\" hspace=\"10px\" vspace=\"0px\"></p>\n",
        "\n",
        "<h1>Colaboratory とは</h1>\n",
        "\n",
        "Colaboratory（略称: Colab）では、ブラウザから Python を記述し実行できるほか、次の特長を備えています。 \n",
        "- 構成が不要\n",
        "- GPU への無料アクセス\n",
        "- 簡単に共有\n",
        "\n",
        "Colab は、<strong>学生</strong>、<strong>データ サイエンティスト</strong>、<strong>AI リサーチャー</strong>の皆さんの作業を効率化します。詳しくは、<a href=\"https://www.youtube.com/watch?v=inN8seMm7UI\">Colab のご紹介</a>をご覧ください。下からすぐに使ってみることもできます。"
      ]
    },
    {
      "cell_type": "markdown",
      "metadata": {
        "id": "pd9RamwRuoOf",
        "colab_type": "text"
      },
      "source": [
        "## <strong>はじめに</strong>\n",
        "\n",
        "ご覧になっているドキュメントは静的なウェブページではなく、<strong>Colab ノートブック</strong>という、コードを記述して実行できるインタラクティブな環境です。\n",
        "\n",
        "たとえば次の<strong>コードセル</strong>には、値を計算して変数に保存し、結果を出力する短い Python スクリプトが含まれています。"
      ]
    },
    {
      "cell_type": "code",
      "metadata": {
        "id": "_yx2LduvuN8N",
        "colab_type": "code",
        "colab": {}
      },
      "source": [
        ""
      ],
      "execution_count": null,
      "outputs": []
    },
    {
      "cell_type": "code",
      "metadata": {
        "id": "GsSxRkDzuOOz",
        "colab_type": "code",
        "colab": {}
      },
      "source": [
        ""
      ],
      "execution_count": null,
      "outputs": []
    },
    {
      "cell_type": "markdown",
      "metadata": {
        "id": "ckN7nZnHu9_L",
        "colab_type": "text"
      },
      "source": [
        "## 数値\n",
        "\n",
        "- 計算する\n",
        "- <strong>変数</strong> に代入する\n",
        "- <strong>数値型</strong> を知る"
      ]
    },
    {
      "cell_type": "markdown",
      "metadata": {
        "id": "8820tLNvvGU3",
        "colab_type": "text"
      },
      "source": [
        "---\n",
        "|演算|演算子|表記法|\n",
        "| ---- | ---- | ---- | \n",
        "|足し算|+|\ta + b|\n",
        "|引き算\t|–|a – b|\n",
        "|掛け算|*|\ta * b|\n",
        "|割り算|/|\ta / b|\n",
        "|余り|%|\ta%b|\n",
        "|累乗|**|a**b|\n",
        "|切り捨て除算|//|\ta//b|"
      ]
    },
    {
      "cell_type": "code",
      "metadata": {
        "id": "BC3lFz3VuOXN",
        "colab_type": "code",
        "colab": {}
      },
      "source": [
        ""
      ],
      "execution_count": null,
      "outputs": []
    },
    {
      "cell_type": "code",
      "metadata": {
        "id": "ddspzWCHuOkf",
        "colab_type": "code",
        "colab": {}
      },
      "source": [
        ""
      ],
      "execution_count": null,
      "outputs": []
    },
    {
      "cell_type": "code",
      "metadata": {
        "id": "mR5U-UCKuOxp",
        "colab_type": "code",
        "colab": {}
      },
      "source": [
        ""
      ],
      "execution_count": null,
      "outputs": []
    },
    {
      "cell_type": "code",
      "metadata": {
        "id": "hRap_ZRJvIr1",
        "colab_type": "code",
        "colab": {}
      },
      "source": [
        ""
      ],
      "execution_count": null,
      "outputs": []
    },
    {
      "cell_type": "code",
      "metadata": {
        "id": "FK6VSAOouO9u",
        "colab_type": "code",
        "colab": {}
      },
      "source": [
        ""
      ],
      "execution_count": null,
      "outputs": []
    },
    {
      "cell_type": "code",
      "metadata": {
        "id": "ffYlK25-uPLD",
        "colab_type": "code",
        "colab": {}
      },
      "source": [
        ""
      ],
      "execution_count": null,
      "outputs": []
    },
    {
      "cell_type": "code",
      "metadata": {
        "id": "PiTlsIH3uPYE",
        "colab_type": "code",
        "colab": {}
      },
      "source": [
        ""
      ],
      "execution_count": null,
      "outputs": []
    },
    {
      "cell_type": "code",
      "metadata": {
        "id": "6rHIjYQBuPQt",
        "colab_type": "code",
        "colab": {}
      },
      "source": [
        ""
      ],
      "execution_count": null,
      "outputs": []
    },
    {
      "cell_type": "code",
      "metadata": {
        "id": "qkGXiN2ruPCL",
        "colab_type": "code",
        "colab": {}
      },
      "source": [
        ""
      ],
      "execution_count": null,
      "outputs": []
    },
    {
      "cell_type": "code",
      "metadata": {
        "id": "JwiZMxG6uO2G",
        "colab_type": "code",
        "colab": {}
      },
      "source": [
        ""
      ],
      "execution_count": null,
      "outputs": []
    },
    {
      "cell_type": "code",
      "metadata": {
        "id": "5Vm2RNpPuOoL",
        "colab_type": "code",
        "colab": {}
      },
      "source": [
        ""
      ],
      "execution_count": null,
      "outputs": []
    },
    {
      "cell_type": "code",
      "metadata": {
        "id": "VwHDJohXuOcr",
        "colab_type": "code",
        "colab": {}
      },
      "source": [
        ""
      ],
      "execution_count": null,
      "outputs": []
    },
    {
      "cell_type": "code",
      "metadata": {
        "id": "xnEnyYJguOSK",
        "colab_type": "code",
        "colab": {}
      },
      "source": [
        ""
      ],
      "execution_count": null,
      "outputs": []
    },
    {
      "cell_type": "code",
      "metadata": {
        "id": "kSreWJYfuODP",
        "colab_type": "code",
        "colab": {}
      },
      "source": [
        ""
      ],
      "execution_count": null,
      "outputs": []
    },
    {
      "cell_type": "code",
      "metadata": {
        "id": "ldwCqYIjuN4O",
        "colab_type": "code",
        "colab": {}
      },
      "source": [
        ""
      ],
      "execution_count": null,
      "outputs": []
    },
    {
      "cell_type": "code",
      "metadata": {
        "id": "dO80GMmjmDeL",
        "colab_type": "code",
        "colab": {}
      },
      "source": [
        "#@title OUT_話す\n",
        "\n",
        "\n",
        "\n",
        "\n",
        "\n",
        "\n",
        "\n",
        "\n"
      ],
      "execution_count": null,
      "outputs": []
    },
    {
      "cell_type": "code",
      "metadata": {
        "id": "OzQTjps-mNCk",
        "colab_type": "code",
        "colab": {}
      },
      "source": [
        "#@title IN_読む＆書く\n",
        "\n",
        "\n",
        "\n",
        "\n",
        "\n",
        "\n",
        "\n",
        "\n",
        "\n"
      ],
      "execution_count": null,
      "outputs": []
    },
    {
      "cell_type": "code",
      "metadata": {
        "id": "0iv_Oz3CmViK",
        "colab_type": "code",
        "colab": {}
      },
      "source": [
        "#@title OUT_総合\n",
        "\n",
        "\n",
        "\n",
        "\n",
        "\n",
        "\n",
        "\n",
        "\n",
        "\n"
      ],
      "execution_count": null,
      "outputs": []
    },
    {
      "cell_type": "code",
      "metadata": {
        "id": "bZxtiIbFiOew",
        "colab_type": "code",
        "colab": {}
      },
      "source": [
        ""
      ],
      "execution_count": null,
      "outputs": []
    },
    {
      "cell_type": "code",
      "metadata": {
        "id": "xKmekqkOiP1M",
        "colab_type": "code",
        "colab": {}
      },
      "source": [
        ""
      ],
      "execution_count": null,
      "outputs": []
    }
  ]
}