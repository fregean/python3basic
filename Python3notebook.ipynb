{
  "nbformat": 4,
  "nbformat_minor": 0,
  "metadata": {
    "accelerator": "GPU",
    "colab": {
      "name": "Python3notebook（8/7）",
      "provenance": [],
      "collapsed_sections": []
    },
    "kernelspec": {
      "display_name": "Python 3",
      "language": "python",
      "name": "python3"
    },
    "language_info": {
      "codemirror_mode": {
        "name": "ipython",
        "version": 3
      },
      "file_extension": ".py",
      "mimetype": "text/x-python",
      "name": "python",
      "nbconvert_exporter": "python",
      "pygments_lexer": "ipython3",
      "version": "3.6.8"
    },
    "latex_envs": {
      "LaTeX_envs_menu_present": true,
      "autoclose": false,
      "autocomplete": true,
      "bibliofile": "biblio.bib",
      "cite_by": "apalike",
      "current_citInitial": 1,
      "eqLabelWithNumbers": true,
      "eqNumInitial": 1,
      "hotkeys": {
        "equation": "Ctrl-E",
        "itemize": "Ctrl-I"
      },
      "labels_anchors": false,
      "latex_user_defs": false,
      "report_style_numbering": false,
      "user_envs_cfg": false
    },
    "toc": {
      "base_numbering": 1,
      "nav_menu": {},
      "number_sections": true,
      "sideBar": true,
      "skip_h1_title": false,
      "title_cell": "Table of Contents",
      "title_sidebar": "Contents",
      "toc_cell": false,
      "toc_position": {},
      "toc_section_display": true,
      "toc_window_display": false
    }
  },
  "cells": [
    {
      "cell_type": "markdown",
      "metadata": {
        "id": "HYOPI0OfdEG0",
        "colab_type": "text"
      },
      "source": [
        "<a href=\"https://colab.research.google.com/github/fregean/python3basic/blob/master/Python3notebook.ipynb\" target=\"_parent\"><img src=\"https://colab.research.google.com/assets/colab-badge.svg\" alt=\"Open In Colab\"/></a>"
      ]
    },
    {
      "cell_type": "markdown",
      "metadata": {
        "colab_type": "text",
        "id": "28S76DVlfCMZ"
      },
      "source": [
        "# Python３エンジニア認定基礎試験講座\n",
        "\n",
        "###（体験クラス用 **60分**）"
      ]
    },
    {
      "cell_type": "markdown",
      "metadata": {
        "id": "SU_bMMdaK2y-",
        "colab_type": "text"
      },
      "source": [
        "<a href=\"https://diveintocode.gyazo.com/8adeb2476d22b1e9f7bd5909ea4acd95\"><img src=\"https://t.gyazo.com/teams/diveintocode/8adeb2476d22b1e9f7bd5909ea4acd95.png\" alt=\"Image from Gyazo\" width=\"８00\"/></a>"
      ]
    },
    {
      "cell_type": "markdown",
      "metadata": {
        "id": "aapEiFEAlrR7",
        "colab_type": "text"
      },
      "source": [
        "## １. **DIVE INTO EXAM** の問題を**５問**解きましょう（制限時間１分 × ５問）\n",
        "\n",
        "<a href=\"https://diveintocode.gyazo.com/0260a79a95690af701391b444c2fa2ec\"><img src=\"https://t.gyazo.com/teams/diveintocode/0260a79a95690af701391b444c2fa2ec.png\" alt=\"Image from Gyazo\" width=\"300\"/></a>\n",
        "\n"
      ]
    },
    {
      "cell_type": "markdown",
      "metadata": {
        "id": "ar2HoyV1-SYY",
        "colab_type": "text"
      },
      "source": [
        "\n",
        "以下のリンクから受験ページへアクセスしてください。\n",
        "\n",
        "\n",
        "\n",
        "https://staging-exam.diveintocode.jp/exam/exam_categories/2\n",
        "\n",
        "\n",
        "<a href=\"https://diveintocode.gyazo.com/7ecbf8288093e840cf796d90bb842d2c\"><img src=\"https://t.gyazo.com/teams/diveintocode/7ecbf8288093e840cf796d90bb842d2c.png\" alt=\"Image from Gyazo\" width=\"2386\"/></a>\n",
        "\n"
      ]
    },
    {
      "cell_type": "markdown",
      "metadata": {
        "id": "VlI10NN3rLxg",
        "colab_type": "text"
      },
      "source": [
        "### 模擬試験お疲れさまでした！！\n",
        "\n",
        "---"
      ]
    },
    {
      "cell_type": "code",
      "metadata": {
        "id": "UXMDSQxM0kTi",
        "colab_type": "code",
        "colab": {}
      },
      "source": [
        ""
      ],
      "execution_count": null,
      "outputs": []
    },
    {
      "cell_type": "code",
      "metadata": {
        "id": "z2dvPVz10kPn",
        "colab_type": "code",
        "colab": {}
      },
      "source": [
        ""
      ],
      "execution_count": null,
      "outputs": []
    },
    {
      "cell_type": "code",
      "metadata": {
        "id": "NKfiwYF50kMX",
        "colab_type": "code",
        "colab": {}
      },
      "source": [
        ""
      ],
      "execution_count": null,
      "outputs": []
    },
    {
      "cell_type": "code",
      "metadata": {
        "id": "skDqZRvD0uB5",
        "colab_type": "code",
        "colab": {}
      },
      "source": [
        ""
      ],
      "execution_count": null,
      "outputs": []
    },
    {
      "cell_type": "markdown",
      "metadata": {
        "id": "a7QdPOi70nGx",
        "colab_type": "text"
      },
      "source": [
        "### 休憩時間（3分）"
      ]
    },
    {
      "cell_type": "code",
      "metadata": {
        "id": "heXHFpDz0kJK",
        "colab_type": "code",
        "colab": {}
      },
      "source": [
        ""
      ],
      "execution_count": null,
      "outputs": []
    },
    {
      "cell_type": "code",
      "metadata": {
        "id": "FXWElZdj0kFp",
        "colab_type": "code",
        "colab": {}
      },
      "source": [
        ""
      ],
      "execution_count": null,
      "outputs": []
    },
    {
      "cell_type": "code",
      "metadata": {
        "id": "jI571EMl0kDy",
        "colab_type": "code",
        "colab": {}
      },
      "source": [
        ""
      ],
      "execution_count": null,
      "outputs": []
    },
    {
      "cell_type": "code",
      "metadata": {
        "id": "IacfKASX0j-1",
        "colab_type": "code",
        "colab": {}
      },
      "source": [
        ""
      ],
      "execution_count": null,
      "outputs": []
    },
    {
      "cell_type": "markdown",
      "metadata": {
        "id": "idqvyUcXrVZr",
        "colab_type": "text"
      },
      "source": [
        "ここで、みなさんがこれから利用するColaboratoryというサービスについて説明します。"
      ]
    },
    {
      "cell_type": "markdown",
      "metadata": {
        "id": "w3QAKLN4un07",
        "colab_type": "text"
      },
      "source": [
        "<p><img alt=\"Colaboratory logo\" height=\"45px\" src=\"/img/colab_favicon.ico\" align=\"left\" hspace=\"10px\" vspace=\"0px\"></p>\n",
        "\n",
        "<h1>Colaboratory とは</h1>\n",
        "\n",
        "Colaboratory（略称: Colab）とは、ブラウザから Python を記述し実行できる環境のことを指します。\n",
        "\n",
        "Colab は、<strong>学生</strong>、<strong>データ サイエンティスト</strong>、<strong>AI リサーチャー</strong>の作業を効率化するツールです。詳しくは、<a href=\"https://www.youtube.com/watch?v=inN8seMm7UI\">Colab のご紹介</a>をご覧ください。"
      ]
    },
    {
      "cell_type": "markdown",
      "metadata": {
        "id": "pd9RamwRuoOf",
        "colab_type": "text"
      },
      "source": [
        "### <strong>このページは何？</strong>\n",
        "\n",
        "このページは、静的なウェブページではなく、<strong>Colab ノートブック</strong>という、コードを記述して実行できる環境です。\n",
        "\n",
        "たとえば次の<strong>コードセル</strong>に値を入力して実行することができます。実行後は結果の出力が表示されます。"
      ]
    },
    {
      "cell_type": "code",
      "metadata": {
        "id": "_slDiKVFqdS3",
        "colab_type": "code",
        "colab": {}
      },
      "source": [
        ""
      ],
      "execution_count": null,
      "outputs": []
    },
    {
      "cell_type": "markdown",
      "metadata": {
        "id": "V5I6ngqcLjcb",
        "colab_type": "text"
      },
      "source": [
        "## ２. 動画を見てみましょう（制限時間10分）\n",
        "\n",
        "このあとの「動画の要約を話してみよう」の時間に一人ずつ要約を語ってもらいます。\n",
        "動画は、内容を要約する気持ちで視聴してくださいね。\n",
        "\n",
        "それでは、以下のページから動画にアクセスしてください。\n",
        "\n",
        "\n",
        "\n",
        "今回の動画で取り扱う内容は、\n",
        "- 数値\n",
        "- 文字列\n",
        "- リスト\n",
        "\n",
        "です。\n",
        "\n"
      ]
    },
    {
      "cell_type": "markdown",
      "metadata": {
        "id": "jdASAVd0n8Rt",
        "colab_type": "text"
      },
      "source": [
        "<a href=\"https://diveintocode.gyazo.com/1990623f930945b6776f65b318b56588\"><img src=\"https://t.gyazo.com/teams/diveintocode/1990623f930945b6776f65b318b56588.png\" alt=\"Image from Gyazo\" width=\"300\"/></a>"
      ]
    },
    {
      "cell_type": "markdown",
      "metadata": {
        "id": "Yv3YTefpthti",
        "colab_type": "text"
      },
      "source": [
        "---"
      ]
    },
    {
      "cell_type": "markdown",
      "metadata": {
        "id": "KJErXpv0070H",
        "colab_type": "text"
      },
      "source": [
        "### 動画視聴お疲れさまでした！！\n",
        "\n",
        "---"
      ]
    },
    {
      "cell_type": "code",
      "metadata": {
        "id": "fD9Gtrm209qu",
        "colab_type": "code",
        "colab": {}
      },
      "source": [
        ""
      ],
      "execution_count": null,
      "outputs": []
    },
    {
      "cell_type": "code",
      "metadata": {
        "id": "oKTZPDFe09oE",
        "colab_type": "code",
        "colab": {}
      },
      "source": [
        ""
      ],
      "execution_count": null,
      "outputs": []
    },
    {
      "cell_type": "code",
      "metadata": {
        "id": "Yxn9RiNQ09kb",
        "colab_type": "code",
        "colab": {}
      },
      "source": [
        ""
      ],
      "execution_count": null,
      "outputs": []
    },
    {
      "cell_type": "code",
      "metadata": {
        "id": "dEeMoemo09ht",
        "colab_type": "code",
        "colab": {}
      },
      "source": [
        ""
      ],
      "execution_count": null,
      "outputs": []
    },
    {
      "cell_type": "markdown",
      "metadata": {
        "id": "SjkBpd-20-oA",
        "colab_type": "text"
      },
      "source": [
        "### 休憩時間（3分）"
      ]
    },
    {
      "cell_type": "code",
      "metadata": {
        "id": "djvm1YxN09be",
        "colab_type": "code",
        "colab": {}
      },
      "source": [
        ""
      ],
      "execution_count": null,
      "outputs": []
    },
    {
      "cell_type": "code",
      "metadata": {
        "id": "mpUmazi109Yt",
        "colab_type": "code",
        "colab": {}
      },
      "source": [
        ""
      ],
      "execution_count": null,
      "outputs": []
    },
    {
      "cell_type": "code",
      "metadata": {
        "id": "UBWlCUF309Vz",
        "colab_type": "code",
        "colab": {}
      },
      "source": [
        ""
      ],
      "execution_count": null,
      "outputs": []
    },
    {
      "cell_type": "code",
      "metadata": {
        "id": "nPbuAvxy09RV",
        "colab_type": "code",
        "colab": {}
      },
      "source": [
        ""
      ],
      "execution_count": null,
      "outputs": []
    },
    {
      "cell_type": "markdown",
      "metadata": {
        "id": "uxFsWppYuKLu",
        "colab_type": "text"
      },
      "source": [
        "## ３. みんなに動画の要約を話してみよう（制限時間10分）\n",
        "\n",
        "\n",
        "先ほど視聴した動画の要約をまわりの人に伝えましょう。"
      ]
    },
    {
      "cell_type": "markdown",
      "metadata": {
        "id": "DVwInHWsviUv",
        "colab_type": "text"
      },
      "source": [
        "<a href=\"https://diveintocode.gyazo.com/5f613bec1b713b417b6665cbf5305c93\"><img src=\"https://t.gyazo.com/teams/diveintocode/5f613bec1b713b417b6665cbf5305c93.png\" alt=\"Image from Gyazo\" width=\"300\"/></a>"
      ]
    },
    {
      "cell_type": "markdown",
      "metadata": {
        "id": "qQ4nowkvuenL",
        "colab_type": "text"
      },
      "source": [
        "#### ★メモ帳★\n",
        "\n",
        "まわりの人の要約を聞いて、感じたことをここにメモしましょう。\n",
        "\n",
        "（例） \n",
        "\n",
        "\n",
        "\n",
        "\n",
        "\n",
        "\n",
        "\n",
        "\n",
        "\n",
        "\n"
      ]
    },
    {
      "cell_type": "markdown",
      "metadata": {
        "id": "mEEcyYLK1Nce",
        "colab_type": "text"
      },
      "source": [
        "### 話し合いお疲れさまでした！！（^0^）\n",
        "\n",
        "---"
      ]
    },
    {
      "cell_type": "code",
      "metadata": {
        "id": "B347hh5r1LdO",
        "colab_type": "code",
        "colab": {}
      },
      "source": [
        ""
      ],
      "execution_count": null,
      "outputs": []
    },
    {
      "cell_type": "code",
      "metadata": {
        "id": "Gy24HWdS1LW_",
        "colab_type": "code",
        "colab": {}
      },
      "source": [
        ""
      ],
      "execution_count": null,
      "outputs": []
    },
    {
      "cell_type": "code",
      "metadata": {
        "id": "P3OZE9rD1LR3",
        "colab_type": "code",
        "colab": {}
      },
      "source": [
        ""
      ],
      "execution_count": null,
      "outputs": []
    },
    {
      "cell_type": "code",
      "metadata": {
        "id": "KjwqGItD1LMz",
        "colab_type": "code",
        "colab": {}
      },
      "source": [
        ""
      ],
      "execution_count": null,
      "outputs": []
    },
    {
      "cell_type": "markdown",
      "metadata": {
        "id": "7dfbIjtX1ZzT",
        "colab_type": "text"
      },
      "source": [
        "### 休憩時間（3分）"
      ]
    },
    {
      "cell_type": "code",
      "metadata": {
        "id": "GGazKr0P1LHC",
        "colab_type": "code",
        "colab": {}
      },
      "source": [
        ""
      ],
      "execution_count": null,
      "outputs": []
    },
    {
      "cell_type": "code",
      "metadata": {
        "id": "Almb_gkR1LBm",
        "colab_type": "code",
        "colab": {}
      },
      "source": [
        ""
      ],
      "execution_count": null,
      "outputs": []
    },
    {
      "cell_type": "code",
      "metadata": {
        "id": "jOtwe3e91K6-",
        "colab_type": "code",
        "colab": {}
      },
      "source": [
        ""
      ],
      "execution_count": null,
      "outputs": []
    },
    {
      "cell_type": "code",
      "metadata": {
        "id": "BMNnJh5t1Kdu",
        "colab_type": "code",
        "colab": {}
      },
      "source": [
        ""
      ],
      "execution_count": null,
      "outputs": []
    },
    {
      "cell_type": "markdown",
      "metadata": {
        "id": "AZIst8YJvIkg",
        "colab_type": "text"
      },
      "source": [
        "## ４. 探求してみよう（制限時間15分）\n",
        "\n",
        "ここまでの30分間に、みなさんは模擬試験を受けて、動画を視聴し、その内容の要約を人に話したり聞いたりしました。\n",
        "\n",
        "いまみなさんの頭の中には、「数値」と「文字列」と「リスト」についての、さまざまな情報や、それに結びついたイメージがいり混じっていると思います。\n",
        "\n",
        "ここからの15分は、ひとりでその情報やイメージの整理を行ってください。\n",
        "\n",
        "15分たったら休憩をとって、再びDIVE INTO EXAMの模擬試験を5分間解いてもらいます。\n",
        "\n"
      ]
    },
    {
      "cell_type": "markdown",
      "metadata": {
        "id": "Lbbszu5pv0Gm",
        "colab_type": "text"
      },
      "source": [
        "<a href=\"https://diveintocode.gyazo.com/b7cae49ff0042d1b430e751c1c762773\"><img src=\"https://t.gyazo.com/teams/diveintocode/b7cae49ff0042d1b430e751c1c762773.png\" alt=\"Image from Gyazo\" width=\"300\"/></a>"
      ]
    },
    {
      "cell_type": "markdown",
      "metadata": {
        "id": "JbnpXkGB1inO",
        "colab_type": "text"
      },
      "source": [
        "**Python3エンジニア認定基礎試験**の 出題範囲は、Python公式サイトでも公開されています。\n",
        "\n",
        "今回の講座で扱っている範囲の内容は、以下のリンク先のページに記載されています。\n",
        "\n",
        "[数](https://docs.python.org/ja/3.5/tutorial/introduction.html#numbers)\n",
        "\n",
        "[文字列型](https://docs.python.org/ja/3.5/tutorial/introduction.html#strings)\n",
        "\n",
        "[リスト型](https://docs.python.org/ja/3.5/tutorial/introduction.html#lists)\n",
        "\n",
        "\n",
        "\n",
        "<a href=\"https://diveintocode.gyazo.com/74b90899106e751c12a1e391e7114860\"><img src=\"https://t.gyazo.com/teams/diveintocode/74b90899106e751c12a1e391e7114860.png\" alt=\"Image from Gyazo\" width=\"300\"/></a>"
      ]
    },
    {
      "cell_type": "markdown",
      "metadata": {
        "id": "4xemk5jKxYz3",
        "colab_type": "text"
      },
      "source": [
        ">## 数値\n",
        "<strong>定数</strong>と<strong>変数</strong>"
      ]
    },
    {
      "cell_type": "markdown",
      "metadata": {
        "id": "7x19FYTYxYvt",
        "colab_type": "text"
      },
      "source": [
        "- 定数を計算する\n",
        "  - 数字の並びを作る\n",
        "  - 数式を作る\n",
        "  - int型（整数型）とfloat型（浮動小数点数型）を使う\n",
        "  - 操作の順序を制御する\n",
        "- 変数を作る\n",
        "  - 変数に代入する\n",
        "- ほかの<strong>数値型</strong> を知る"
      ]
    },
    {
      "cell_type": "markdown",
      "metadata": {
        "id": "vSWzlPgmxYr3",
        "colab_type": "text"
      },
      "source": [
        "<a href=\"https://diveintocode.gyazo.com/dd25c3a16420f09bdaafd63c443d368d\"><img src=\"https://t.gyazo.com/teams/diveintocode/dd25c3a16420f09bdaafd63c443d368d.png\" alt=\"Image from Gyazo\" width=\"300\"/></a>"
      ]
    },
    {
      "cell_type": "markdown",
      "metadata": {
        "id": "ZtYFd6lPx86Z",
        "colab_type": "text"
      },
      "source": [
        "---"
      ]
    },
    {
      "cell_type": "markdown",
      "metadata": {
        "id": "frhkgPtfxYpd",
        "colab_type": "text"
      },
      "source": [
        ">## 文字列\n",
        "基本の<strong>シーケンス</strong>"
      ]
    },
    {
      "cell_type": "markdown",
      "metadata": {
        "id": "xJFI2Up7xYl9",
        "colab_type": "text"
      },
      "source": [
        "- 文字列を作る\n",
        "  - 引用符（クォート）\n",
        "  - 連結・繰り返し\n",
        "- エスケープ（文字の意味を無効化する）記法を使う\n",
        "  - print()関数\n",
        "  - 改行する\n",
        "  - エスケープ記法を無効にする\n",
        "- 変数に代入する\n",
        "- 位置を<strong>インデックス</strong>で指定する（インデクシング）\n",
        "- <strong>スライス</strong>で部分的に切り取る（スライシング）\n",
        "- <strong>変更不可能</strong>である（イミュータブル）\n",
        "  - シーケンスの性質\n",
        "\n",
        "\n",
        "<br>\n",
        "文字列の作成には引用符を用い、それらを開閉する必要があります。"
      ]
    },
    {
      "cell_type": "markdown",
      "metadata": {
        "id": "433Xxg1vxYiT",
        "colab_type": "text"
      },
      "source": [
        "<a href=\"https://diveintocode.gyazo.com/fe984dc42dcfebadbaaba011e0c3ce18\"><img src=\"https://t.gyazo.com/teams/diveintocode/fe984dc42dcfebadbaaba011e0c3ce18.png\" alt=\"Image from Gyazo\" width=\"350\"/></a>"
      ]
    },
    {
      "cell_type": "markdown",
      "metadata": {
        "id": "yEtQ3N4vxJrY",
        "colab_type": "text"
      },
      "source": [
        "---"
      ]
    },
    {
      "cell_type": "markdown",
      "metadata": {
        "id": "EbIT7YpTyLtW",
        "colab_type": "text"
      },
      "source": [
        ">## リスト\n",
        "複雑な構造をもつ<strong>シーケンス</strong>"
      ]
    },
    {
      "cell_type": "markdown",
      "metadata": {
        "id": "5_-FgUm5yLoC",
        "colab_type": "text"
      },
      "source": [
        "- リストを作る\n",
        "  - 角カッコ\n",
        "  - カンマ区切りの値（要素）\n",
        "  - 連結・繰り返し\n",
        "  - 異なる型の要素を入れる\n",
        "- 変数に代入する\n",
        "- 位置を<strong>インデックス</strong>で指定する（インデクシング）\n",
        "- <strong>スライス</strong>で部分的に切り取る（スライシング）\n",
        "- <strong><font color=\"FireBrick\">変更可能</font></strong>である（ミュータブル）\n",
        "  - シーケンスの性質\n",
        "- 末尾に要素を追加する<strong>append()</strong>メソッド\n",
        "- <strong>len()</strong>関数でリストの要素数を返す\n",
        "- リストのリスト"
      ]
    },
    {
      "cell_type": "markdown",
      "metadata": {
        "id": "Hc4VTvJeHaEe",
        "colab_type": "text"
      },
      "source": [
        "### 探求お疲れさまでした！！ （^▽^）\n",
        "\n",
        "---"
      ]
    },
    {
      "cell_type": "code",
      "metadata": {
        "id": "uvFTFIjjHQZU",
        "colab_type": "code",
        "colab": {}
      },
      "source": [
        ""
      ],
      "execution_count": null,
      "outputs": []
    },
    {
      "cell_type": "code",
      "metadata": {
        "id": "3rUCIr-RHQSW",
        "colab_type": "code",
        "colab": {}
      },
      "source": [
        ""
      ],
      "execution_count": null,
      "outputs": []
    },
    {
      "cell_type": "code",
      "metadata": {
        "id": "wDvqsxSaHQPO",
        "colab_type": "code",
        "colab": {}
      },
      "source": [
        ""
      ],
      "execution_count": null,
      "outputs": []
    },
    {
      "cell_type": "code",
      "metadata": {
        "id": "ocssFfFEHQMf",
        "colab_type": "code",
        "colab": {}
      },
      "source": [
        ""
      ],
      "execution_count": null,
      "outputs": []
    },
    {
      "cell_type": "markdown",
      "metadata": {
        "id": "u1w66nsUHRUW",
        "colab_type": "text"
      },
      "source": [
        "### 休憩時間（3分）"
      ]
    },
    {
      "cell_type": "code",
      "metadata": {
        "id": "YIOTe_HAHQF1",
        "colab_type": "code",
        "colab": {}
      },
      "source": [
        ""
      ],
      "execution_count": null,
      "outputs": []
    },
    {
      "cell_type": "code",
      "metadata": {
        "id": "ADUWrvZaHQCN",
        "colab_type": "code",
        "colab": {}
      },
      "source": [
        ""
      ],
      "execution_count": null,
      "outputs": []
    },
    {
      "cell_type": "code",
      "metadata": {
        "id": "1AQgHbvsHP8N",
        "colab_type": "code",
        "colab": {}
      },
      "source": [
        ""
      ],
      "execution_count": null,
      "outputs": []
    },
    {
      "cell_type": "code",
      "metadata": {
        "id": "e82r-7s8HP3H",
        "colab_type": "code",
        "colab": {}
      },
      "source": [
        ""
      ],
      "execution_count": null,
      "outputs": []
    },
    {
      "cell_type": "markdown",
      "metadata": {
        "id": "fB1LGkaaw6W7",
        "colab_type": "text"
      },
      "source": [
        "## ５. **DIVE INTO EXAM** の問題を**５問**解きましょう（制限時間１分 × ５問）\n",
        "\n",
        "以下のリンクから受験ページへアクセスしてください。\n",
        "\n",
        "\n",
        "http://192.168.100.9:3000/exam\n",
        "\n",
        "---"
      ]
    },
    {
      "cell_type": "markdown",
      "metadata": {
        "id": "gCDKUfCwxH3y",
        "colab_type": "text"
      },
      "source": [
        "<a href=\"https://diveintocode.gyazo.com/0260a79a95690af701391b444c2fa2ec\"><img src=\"https://t.gyazo.com/teams/diveintocode/0260a79a95690af701391b444c2fa2ec.png\" alt=\"Image from Gyazo\" width=\"300\"/></a>"
      ]
    },
    {
      "cell_type": "markdown",
      "metadata": {
        "id": "Z1n1ni_WzJzA",
        "colab_type": "text"
      },
      "source": [
        "### 講座の受講お疲れさまでした！！\n",
        "\n",
        "### ３分間休憩しましょう！"
      ]
    },
    {
      "cell_type": "code",
      "metadata": {
        "id": "6yr5m3a85HTO",
        "colab_type": "code",
        "colab": {}
      },
      "source": [
        ""
      ],
      "execution_count": null,
      "outputs": []
    }
  ]
}