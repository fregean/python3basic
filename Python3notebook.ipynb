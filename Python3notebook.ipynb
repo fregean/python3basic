{
 "cells": [
  {
   "cell_type": "markdown",
   "metadata": {
    "colab_type": "text",
    "id": "HYOPI0OfdEG0"
   },
   "source": [
    "<a href=\"https://colab.research.google.com/github/fregean/python3basic/blob/master/Python3notebook.ipynb\" target=\"_parent\"><img src=\"https://colab.research.google.com/assets/colab-badge.svg\" alt=\"Open In Colab\"/></a>"
   ]
  },
  {
   "cell_type": "markdown",
   "metadata": {
    "colab_type": "text",
    "id": "28S76DVlfCMZ"
   },
   "source": [
    "# Python３エンジニア認定基礎試験講座\n",
    "\n",
    "###（体験クラス用 **60分**）"
   ]
  },
  {
   "cell_type": "markdown",
   "metadata": {
    "colab_type": "text",
    "id": "SU_bMMdaK2y-"
   },
   "source": [
    "<a href=\"https://diveintocode.gyazo.com/8adeb2476d22b1e9f7bd5909ea4acd95\"><img src=\"https://t.gyazo.com/teams/diveintocode/8adeb2476d22b1e9f7bd5909ea4acd95.png\" alt=\"Image from Gyazo\" width=\"８00\"/></a>"
   ]
  },
  {
   "cell_type": "markdown",
   "metadata": {
    "colab_type": "text",
    "id": "aapEiFEAlrR7"
   },
   "source": [
    "## １. **DIVE INTO EXAM** の問題を**５問**解きましょう（制限時間１分 × ５問）\n",
    "\n",
    "<a href=\"https://diveintocode.gyazo.com/0260a79a95690af701391b444c2fa2ec\"><img src=\"https://t.gyazo.com/teams/diveintocode/0260a79a95690af701391b444c2fa2ec.png\" alt=\"Image from Gyazo\" width=\"300\"/></a>\n",
    "\n"
   ]
  },
  {
   "cell_type": "markdown",
   "metadata": {
    "colab_type": "text",
    "id": "ar2HoyV1-SYY"
   },
   "source": [
    "\n",
    "以下のリンクから受験ページへアクセスしてください。\n",
    "\n",
    "\n",
    "\n",
    "https://staging-exam.diveintocode.jp/exam/exam_categories/19/result_lists\n",
    "\n",
    "\n",
    "<a href=\"https://diveintocode.gyazo.com/bfb8976b0fa474d1bf08fe72876cb6ac\"><img src=\"https://t.gyazo.com/teams/diveintocode/bfb8976b0fa474d1bf08fe72876cb6ac.png\" alt=\"Image from Gyazo\" width=\"2334\"/></a>\n",
    "\n"
   ]
  },
  {
   "cell_type": "markdown",
   "metadata": {
    "colab_type": "text",
    "id": "VlI10NN3rLxg"
   },
   "source": [
    "### 模擬試験お疲れさまでした！！\n",
    "\n",
    "---"
   ]
  },
  {
   "cell_type": "code",
   "execution_count": null,
   "metadata": {
    "colab": {},
    "colab_type": "code",
    "id": "UXMDSQxM0kTi"
   },
   "outputs": [],
   "source": []
  },
  {
   "cell_type": "code",
   "execution_count": null,
   "metadata": {
    "colab": {},
    "colab_type": "code",
    "id": "z2dvPVz10kPn"
   },
   "outputs": [],
   "source": []
  },
  {
   "cell_type": "code",
   "execution_count": null,
   "metadata": {
    "colab": {},
    "colab_type": "code",
    "id": "NKfiwYF50kMX"
   },
   "outputs": [],
   "source": []
  },
  {
   "cell_type": "code",
   "execution_count": null,
   "metadata": {
    "colab": {},
    "colab_type": "code",
    "id": "skDqZRvD0uB5"
   },
   "outputs": [],
   "source": []
  },
  {
   "cell_type": "markdown",
   "metadata": {
    "colab_type": "text",
    "id": "a7QdPOi70nGx"
   },
   "source": [
    "### 休憩時間（3分）"
   ]
  },
  {
   "cell_type": "code",
   "execution_count": null,
   "metadata": {
    "colab": {},
    "colab_type": "code",
    "id": "heXHFpDz0kJK"
   },
   "outputs": [],
   "source": []
  },
  {
   "cell_type": "code",
   "execution_count": null,
   "metadata": {
    "colab": {},
    "colab_type": "code",
    "id": "FXWElZdj0kFp"
   },
   "outputs": [],
   "source": []
  },
  {
   "cell_type": "code",
   "execution_count": null,
   "metadata": {
    "colab": {},
    "colab_type": "code",
    "id": "jI571EMl0kDy"
   },
   "outputs": [],
   "source": []
  },
  {
   "cell_type": "code",
   "execution_count": null,
   "metadata": {
    "colab": {},
    "colab_type": "code",
    "id": "IacfKASX0j-1"
   },
   "outputs": [],
   "source": []
  },
  {
   "cell_type": "markdown",
   "metadata": {
    "colab_type": "text",
    "id": "idqvyUcXrVZr"
   },
   "source": [
    "ここで、みなさんがこれから利用するColaboratoryというサービスについて説明します。"
   ]
  },
  {
   "cell_type": "markdown",
   "metadata": {
    "colab_type": "text",
    "id": "w3QAKLN4un07"
   },
   "source": [
    "<p><img alt=\"Colaboratory logo\" height=\"45px\" src=\"/img/colab_favicon.ico\" align=\"left\" hspace=\"10px\" vspace=\"0px\"></p>\n",
    "\n",
    "<h1>Colaboratory とは</h1>\n",
    "\n",
    "Colaboratory（略称: Colab）とは、ブラウザから Python を記述し実行できる環境のことを指します。\n",
    "\n",
    "Colab は、<strong>学生</strong>、<strong>データ サイエンティスト</strong>、<strong>AI リサーチャー</strong>の作業を効率化するツールです。詳しくは、<a href=\"https://www.youtube.com/watch?v=inN8seMm7UI\">Colab のご紹介</a>をご覧ください。"
   ]
  },
  {
   "cell_type": "markdown",
   "metadata": {
    "colab_type": "text",
    "id": "pd9RamwRuoOf"
   },
   "source": [
    "### <strong>このページは何？</strong>\n",
    "\n",
    "このページは、静的なウェブページではなく、<strong>Colab ノートブック</strong>という、コードを記述して実行できる環境です。\n",
    "\n",
    "たとえば次の<strong>コードセル</strong>に値を入力して実行することができます。実行後は結果の出力が表示されます。"
   ]
  },
  {
   "cell_type": "code",
   "execution_count": null,
   "metadata": {
    "colab": {},
    "colab_type": "code",
    "id": "_slDiKVFqdS3"
   },
   "outputs": [],
   "source": []
  },
  {
   "cell_type": "markdown",
   "metadata": {
    "colab_type": "text",
    "id": "V5I6ngqcLjcb"
   },
   "source": [
    "## ２. 動画を見てみましょう（制限時間10分）\n",
    "\n",
    "このあとの「動画の要約を話してみよう」の時間に一人ずつ要約を語ってもらいます。\n",
    "動画は、内容を要約する気持ちで視聴してくださいね。\n",
    "\n",
    "それでは、以下のページから動画にアクセスしてください。\n",
    "\n",
    "\n",
    "\n",
    "今回の動画で取り扱う内容は、\n",
    "- 数値\n",
    "- 文字列\n",
    "- リスト\n",
    "\n",
    "です。\n",
    "\n"
   ]
  },
  {
   "cell_type": "markdown",
   "metadata": {
    "colab_type": "text",
    "id": "jdASAVd0n8Rt"
   },
   "source": [
    "<a href=\"https://diveintocode.gyazo.com/1990623f930945b6776f65b318b56588\"><img src=\"https://t.gyazo.com/teams/diveintocode/1990623f930945b6776f65b318b56588.png\" alt=\"Image from Gyazo\" width=\"300\"/></a>"
   ]
  },
  {
   "cell_type": "markdown",
   "metadata": {
    "colab_type": "text",
    "id": "Yv3YTefpthti"
   },
   "source": [
    "---"
   ]
  },
  {
   "cell_type": "markdown",
   "metadata": {
    "colab_type": "text",
    "id": "KJErXpv0070H"
   },
   "source": [
    "### 動画視聴お疲れさまでした！！\n",
    "\n",
    "---"
   ]
  },
  {
   "cell_type": "code",
   "execution_count": null,
   "metadata": {
    "colab": {},
    "colab_type": "code",
    "id": "fD9Gtrm209qu"
   },
   "outputs": [],
   "source": []
  },
  {
   "cell_type": "code",
   "execution_count": null,
   "metadata": {
    "colab": {},
    "colab_type": "code",
    "id": "oKTZPDFe09oE"
   },
   "outputs": [],
   "source": []
  },
  {
   "cell_type": "code",
   "execution_count": null,
   "metadata": {
    "colab": {},
    "colab_type": "code",
    "id": "Yxn9RiNQ09kb"
   },
   "outputs": [],
   "source": []
  },
  {
   "cell_type": "code",
   "execution_count": null,
   "metadata": {
    "colab": {},
    "colab_type": "code",
    "id": "dEeMoemo09ht"
   },
   "outputs": [],
   "source": []
  },
  {
   "cell_type": "markdown",
   "metadata": {
    "colab_type": "text",
    "id": "SjkBpd-20-oA"
   },
   "source": [
    "### 休憩時間（3分）"
   ]
  },
  {
   "cell_type": "code",
   "execution_count": null,
   "metadata": {
    "colab": {},
    "colab_type": "code",
    "id": "djvm1YxN09be"
   },
   "outputs": [],
   "source": []
  },
  {
   "cell_type": "code",
   "execution_count": null,
   "metadata": {
    "colab": {},
    "colab_type": "code",
    "id": "mpUmazi109Yt"
   },
   "outputs": [],
   "source": []
  },
  {
   "cell_type": "code",
   "execution_count": null,
   "metadata": {
    "colab": {},
    "colab_type": "code",
    "id": "UBWlCUF309Vz"
   },
   "outputs": [],
   "source": []
  },
  {
   "cell_type": "code",
   "execution_count": null,
   "metadata": {
    "colab": {},
    "colab_type": "code",
    "id": "nPbuAvxy09RV"
   },
   "outputs": [],
   "source": []
  },
  {
   "cell_type": "markdown",
   "metadata": {
    "colab_type": "text",
    "id": "uxFsWppYuKLu"
   },
   "source": [
    "## ３. みんなに動画の要約を話してみよう（制限時間10分）\n",
    "\n",
    "\n",
    "先ほど視聴した動画の要約をまわりの人に伝えましょう。"
   ]
  },
  {
   "cell_type": "markdown",
   "metadata": {
    "colab_type": "text",
    "id": "DVwInHWsviUv"
   },
   "source": [
    "<a href=\"https://diveintocode.gyazo.com/5f613bec1b713b417b6665cbf5305c93\"><img src=\"https://t.gyazo.com/teams/diveintocode/5f613bec1b713b417b6665cbf5305c93.png\" alt=\"Image from Gyazo\" width=\"300\"/></a>"
   ]
  },
  {
   "cell_type": "markdown",
   "metadata": {
    "colab_type": "text",
    "id": "qQ4nowkvuenL"
   },
   "source": [
    "#### ★メモ帳★\n",
    "\n",
    "まわりの人の要約を聞いて、感じたことをここにメモしましょう。\n",
    "\n",
    "（例） \n",
    "\n",
    "\n",
    "\n",
    "\n",
    "\n",
    "\n",
    "\n",
    "\n",
    "\n",
    "\n"
   ]
  },
  {
   "cell_type": "markdown",
   "metadata": {
    "colab_type": "text",
    "id": "mEEcyYLK1Nce"
   },
   "source": [
    "### 話し合いお疲れさまでした！！（^0^）\n",
    "\n",
    "---"
   ]
  },
  {
   "cell_type": "code",
   "execution_count": null,
   "metadata": {
    "colab": {},
    "colab_type": "code",
    "id": "B347hh5r1LdO"
   },
   "outputs": [],
   "source": []
  },
  {
   "cell_type": "code",
   "execution_count": null,
   "metadata": {
    "colab": {},
    "colab_type": "code",
    "id": "Gy24HWdS1LW_"
   },
   "outputs": [],
   "source": []
  },
  {
   "cell_type": "code",
   "execution_count": null,
   "metadata": {
    "colab": {},
    "colab_type": "code",
    "id": "P3OZE9rD1LR3"
   },
   "outputs": [],
   "source": []
  },
  {
   "cell_type": "code",
   "execution_count": null,
   "metadata": {
    "colab": {},
    "colab_type": "code",
    "id": "KjwqGItD1LMz"
   },
   "outputs": [],
   "source": []
  },
  {
   "cell_type": "markdown",
   "metadata": {
    "colab_type": "text",
    "id": "7dfbIjtX1ZzT"
   },
   "source": [
    "### 休憩時間（3分）"
   ]
  },
  {
   "cell_type": "code",
   "execution_count": null,
   "metadata": {
    "colab": {},
    "colab_type": "code",
    "id": "GGazKr0P1LHC"
   },
   "outputs": [],
   "source": []
  },
  {
   "cell_type": "code",
   "execution_count": null,
   "metadata": {
    "colab": {},
    "colab_type": "code",
    "id": "Almb_gkR1LBm"
   },
   "outputs": [],
   "source": []
  },
  {
   "cell_type": "code",
   "execution_count": null,
   "metadata": {
    "colab": {},
    "colab_type": "code",
    "id": "jOtwe3e91K6-"
   },
   "outputs": [],
   "source": []
  },
  {
   "cell_type": "code",
   "execution_count": null,
   "metadata": {
    "colab": {},
    "colab_type": "code",
    "id": "BMNnJh5t1Kdu"
   },
   "outputs": [],
   "source": []
  },
  {
   "cell_type": "markdown",
   "metadata": {
    "colab_type": "text",
    "id": "AZIst8YJvIkg"
   },
   "source": [
    "## ４. 探求してみよう（制限時間15分）\n",
    "\n",
    "ここまでの30分間に、みなさんは模擬試験を受けて、動画を視聴し、その内容の要約を人に話したり聞いたりしました。\n",
    "\n",
    "いまみなさんの頭の中には、「数値」と「文字列」と「リスト」についての、さまざまな情報や、それに結びついたイメージがいり混じっていると思います。\n",
    "\n",
    "ここからの15分は、ひとりでその情報やイメージの整理を行ってください。\n",
    "\n",
    "15分たったら休憩をとって、再びDIVE INTO EXAMの模擬試験を5分間解いてもらいます。\n",
    "\n"
   ]
  },
  {
   "cell_type": "markdown",
   "metadata": {
    "colab_type": "text",
    "id": "Lbbszu5pv0Gm"
   },
   "source": [
    "<a href=\"https://diveintocode.gyazo.com/b7cae49ff0042d1b430e751c1c762773\"><img src=\"https://t.gyazo.com/teams/diveintocode/b7cae49ff0042d1b430e751c1c762773.png\" alt=\"Image from Gyazo\" width=\"300\"/></a>"
   ]
  },
  {
   "cell_type": "markdown",
   "metadata": {
    "colab_type": "text",
    "id": "JbnpXkGB1inO"
   },
   "source": [
    "**Python3エンジニア認定基礎試験**の 出題範囲は、Python公式サイトでも公開されています。\n",
    "\n",
    "今回の講座で扱っている範囲の内容は、以下のリンク先のページに記載されています。\n",
    "\n",
    "[数](https://docs.python.org/ja/3.5/tutorial/introduction.html#numbers)\n",
    "\n",
    "[文字列型](https://docs.python.org/ja/3.5/tutorial/introduction.html#strings)\n",
    "\n",
    "[リスト型](https://docs.python.org/ja/3.5/tutorial/introduction.html#lists)\n",
    "\n",
    "\n",
    "\n",
    "<a href=\"https://diveintocode.gyazo.com/74b90899106e751c12a1e391e7114860\"><img src=\"https://t.gyazo.com/teams/diveintocode/74b90899106e751c12a1e391e7114860.png\" alt=\"Image from Gyazo\" width=\"300\"/></a>"
   ]
  },
  {
   "cell_type": "markdown",
   "metadata": {
    "colab_type": "text",
    "id": "4xemk5jKxYz3"
   },
   "source": [
    ">## 数値\n",
    "<strong>定数</strong>と<strong>変数</strong>"
   ]
  },
  {
   "cell_type": "markdown",
   "metadata": {
    "colab_type": "text",
    "id": "7x19FYTYxYvt"
   },
   "source": [
    "- 定数を計算する\n",
    "  - 数字の並びを作る\n",
    "  - 数式を作る\n",
    "  - int型（整数型）とfloat型（浮動小数点数型）を使う\n",
    "  - 操作の順序を制御する\n",
    "- 変数を作る\n",
    "  - 変数に代入する\n",
    "- ほかの<strong>数値型</strong> を知る"
   ]
  },
  {
   "cell_type": "markdown",
   "metadata": {
    "colab_type": "text",
    "id": "vSWzlPgmxYr3"
   },
   "source": [
    "<a href=\"https://diveintocode.gyazo.com/dd25c3a16420f09bdaafd63c443d368d\"><img src=\"https://t.gyazo.com/teams/diveintocode/dd25c3a16420f09bdaafd63c443d368d.png\" alt=\"Image from Gyazo\" width=\"300\"/></a>"
   ]
  },
  {
   "cell_type": "markdown",
   "metadata": {
    "colab_type": "text",
    "id": "ZtYFd6lPx86Z"
   },
   "source": [
    "---"
   ]
  },
  {
   "cell_type": "markdown",
   "metadata": {
    "colab_type": "text",
    "id": "frhkgPtfxYpd"
   },
   "source": [
    ">## 文字列\n",
    "基本の<strong>シーケンス</strong>"
   ]
  },
  {
   "cell_type": "markdown",
   "metadata": {
    "colab_type": "text",
    "id": "xJFI2Up7xYl9"
   },
   "source": [
    "- 文字列を作る\n",
    "  - 引用符（クォート）\n",
    "  - 連結・繰り返し\n",
    "- エスケープ（文字の意味を無効化する）記法を使う\n",
    "  - print()関数\n",
    "  - 改行する\n",
    "  - エスケープ記法を無効にする\n",
    "- 変数に代入する\n",
    "- 位置を<strong>インデックス</strong>で指定する（インデクシング）\n",
    "- <strong>スライス</strong>で部分的に切り取る（スライシング）\n",
    "- <strong>変更不可能</strong>である（イミュータブル）\n",
    "  - シーケンスの性質\n",
    "\n",
    "\n",
    "<br>\n",
    "文字列の作成には引用符を用い、それらを開閉する必要があります。"
   ]
  },
  {
   "cell_type": "markdown",
   "metadata": {
    "colab_type": "text",
    "id": "433Xxg1vxYiT"
   },
   "source": [
    "<a href=\"https://diveintocode.gyazo.com/fe984dc42dcfebadbaaba011e0c3ce18\"><img src=\"https://t.gyazo.com/teams/diveintocode/fe984dc42dcfebadbaaba011e0c3ce18.png\" alt=\"Image from Gyazo\" width=\"350\"/></a>"
   ]
  },
  {
   "cell_type": "markdown",
   "metadata": {
    "colab_type": "text",
    "id": "yEtQ3N4vxJrY"
   },
   "source": [
    "---"
   ]
  },
  {
   "cell_type": "markdown",
   "metadata": {
    "colab_type": "text",
    "id": "EbIT7YpTyLtW"
   },
   "source": [
    ">## リスト\n",
    "複雑な構造をもつ<strong>シーケンス</strong>"
   ]
  },
  {
   "cell_type": "markdown",
   "metadata": {
    "colab_type": "text",
    "id": "5_-FgUm5yLoC"
   },
   "source": [
    "- リストを作る\n",
    "  - 角カッコ\n",
    "  - カンマ区切りの値（要素）\n",
    "  - 連結・繰り返し\n",
    "  - 異なる型の要素を入れる\n",
    "- 変数に代入する\n",
    "- 位置を<strong>インデックス</strong>で指定する（インデクシング）\n",
    "- <strong>スライス</strong>で部分的に切り取る（スライシング）\n",
    "- <strong><font color=\"FireBrick\">変更可能</font></strong>である（ミュータブル）\n",
    "  - シーケンスの性質\n",
    "- 末尾に要素を追加する<strong>append()</strong>メソッド\n",
    "- <strong>len()</strong>関数でリストの要素数を返す\n",
    "- リストのリスト"
   ]
  },
  {
   "cell_type": "markdown",
   "metadata": {
    "colab_type": "text",
    "id": "Hc4VTvJeHaEe"
   },
   "source": [
    "### 探求お疲れさまでした！！ （^▽^）\n",
    "\n",
    "---"
   ]
  },
  {
   "cell_type": "code",
   "execution_count": null,
   "metadata": {
    "colab": {},
    "colab_type": "code",
    "id": "uvFTFIjjHQZU"
   },
   "outputs": [],
   "source": []
  },
  {
   "cell_type": "code",
   "execution_count": null,
   "metadata": {
    "colab": {},
    "colab_type": "code",
    "id": "3rUCIr-RHQSW"
   },
   "outputs": [],
   "source": []
  },
  {
   "cell_type": "code",
   "execution_count": null,
   "metadata": {
    "colab": {},
    "colab_type": "code",
    "id": "wDvqsxSaHQPO"
   },
   "outputs": [],
   "source": []
  },
  {
   "cell_type": "code",
   "execution_count": null,
   "metadata": {
    "colab": {},
    "colab_type": "code",
    "id": "ocssFfFEHQMf"
   },
   "outputs": [],
   "source": []
  },
  {
   "cell_type": "markdown",
   "metadata": {
    "colab_type": "text",
    "id": "u1w66nsUHRUW"
   },
   "source": [
    "### 休憩時間（3分）"
   ]
  },
  {
   "cell_type": "code",
   "execution_count": null,
   "metadata": {
    "colab": {},
    "colab_type": "code",
    "id": "YIOTe_HAHQF1"
   },
   "outputs": [],
   "source": []
  },
  {
   "cell_type": "code",
   "execution_count": null,
   "metadata": {
    "colab": {},
    "colab_type": "code",
    "id": "ADUWrvZaHQCN"
   },
   "outputs": [],
   "source": []
  },
  {
   "cell_type": "code",
   "execution_count": null,
   "metadata": {
    "colab": {},
    "colab_type": "code",
    "id": "1AQgHbvsHP8N"
   },
   "outputs": [],
   "source": []
  },
  {
   "cell_type": "code",
   "execution_count": null,
   "metadata": {
    "colab": {},
    "colab_type": "code",
    "id": "e82r-7s8HP3H"
   },
   "outputs": [],
   "source": []
  },
  {
   "cell_type": "markdown",
   "metadata": {
    "colab_type": "text",
    "id": "fB1LGkaaw6W7"
   },
   "source": [
    "## ５. **DIVE INTO EXAM** の問題を**５問**解きましょう（制限時間１分 × ５問）\n",
    "\n",
    "以下のリンクから受験ページへアクセスしてください。\n",
    "\n",
    "\n",
    "https://staging-exam.diveintocode.jp/exam/exam_categories/19/result_lists\n",
    "\n",
    "---"
   ]
  },
  {
   "cell_type": "markdown",
   "metadata": {
    "colab_type": "text",
    "id": "gCDKUfCwxH3y"
   },
   "source": [
    "<a href=\"https://diveintocode.gyazo.com/0260a79a95690af701391b444c2fa2ec\"><img src=\"https://t.gyazo.com/teams/diveintocode/0260a79a95690af701391b444c2fa2ec.png\" alt=\"Image from Gyazo\" width=\"300\"/></a>"
   ]
  },
  {
   "cell_type": "markdown",
   "metadata": {
    "colab_type": "text",
    "id": "Z1n1ni_WzJzA"
   },
   "source": [
    "### 講座の受講お疲れさまでした！！\n",
    "\n",
    "### ３分間休憩しましょう！"
   ]
  },
  {
   "cell_type": "code",
   "execution_count": null,
   "metadata": {
    "colab": {},
    "colab_type": "code",
    "id": "6yr5m3a85HTO"
   },
   "outputs": [],
   "source": []
  }
 ],
 "metadata": {
  "accelerator": "GPU",
  "colab": {
   "collapsed_sections": [],
   "name": "Python3notebook（8/7）",
   "provenance": []
  },
  "kernelspec": {
   "display_name": "Python 3",
   "language": "python",
   "name": "python3"
  },
  "language_info": {
   "codemirror_mode": {
    "name": "ipython",
    "version": 3
   },
   "file_extension": ".py",
   "mimetype": "text/x-python",
   "name": "python",
   "nbconvert_exporter": "python",
   "pygments_lexer": "ipython3",
   "version": "3.7.3"
  },
  "latex_envs": {
   "LaTeX_envs_menu_present": true,
   "autoclose": false,
   "autocomplete": true,
   "bibliofile": "biblio.bib",
   "cite_by": "apalike",
   "current_citInitial": 1,
   "eqLabelWithNumbers": true,
   "eqNumInitial": 1,
   "hotkeys": {
    "equation": "Ctrl-E",
    "itemize": "Ctrl-I"
   },
   "labels_anchors": false,
   "latex_user_defs": false,
   "report_style_numbering": false,
   "user_envs_cfg": false
  },
  "toc": {
   "base_numbering": 1,
   "nav_menu": {},
   "number_sections": true,
   "sideBar": true,
   "skip_h1_title": false,
   "title_cell": "Table of Contents",
   "title_sidebar": "Contents",
   "toc_cell": false,
   "toc_position": {},
   "toc_section_display": true,
   "toc_window_display": false
  }
 },
 "nbformat": 4,
 "nbformat_minor": 1
}
