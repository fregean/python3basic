{
 "cells": [
  {
   "cell_type": "markdown",
   "metadata": {
    "colab_type": "text",
    "id": "HYOPI0OfdEG0"
   },
   "source": [
    "<a href=\"https://colab.research.google.com/github/fregean/python3basic/blob/master/Python3notebook.ipynb\" target=\"_parent\"><img src=\"https://colab.research.google.com/assets/colab-badge.svg\" alt=\"Open In Colab\"/></a>"
   ]
  },
  {
   "cell_type": "markdown",
   "metadata": {
    "colab_type": "text",
    "id": "28S76DVlfCMZ"
   },
   "source": [
    "# Python３エンジニア認定基礎試験講座\n",
    "\n",
    "###（体験クラス用 **60分**）"
   ]
  },
  {
   "cell_type": "markdown",
   "metadata": {
    "colab_type": "text",
    "id": "SU_bMMdaK2y-"
   },
   "source": [
    "<a href=\"https://diveintocode.gyazo.com/8adeb2476d22b1e9f7bd5909ea4acd95\"><img src=\"https://t.gyazo.com/teams/diveintocode/8adeb2476d22b1e9f7bd5909ea4acd95.png\" alt=\"Image from Gyazo\" width=\"８00\"/></a>"
   ]
  },
  {
   "cell_type": "markdown",
   "metadata": {
    "colab_type": "text",
    "id": "aapEiFEAlrR7"
   },
   "source": [
    "## １. **DIVE INTO EXAM** の問題を**５問**解きましょう（制限時間１分 × ５問）\n",
    "\n",
    "<a href=\"https://diveintocode.gyazo.com/0260a79a95690af701391b444c2fa2ec\"><img src=\"https://t.gyazo.com/teams/diveintocode/0260a79a95690af701391b444c2fa2ec.png\" alt=\"Image from Gyazo\" width=\"300\"/></a>\n",
    "\n"
   ]
  },
  {
   "cell_type": "markdown",
   "metadata": {
    "colab_type": "text",
    "id": "ar2HoyV1-SYY"
   },
   "source": [
    "まったく前提知識がないということを想定していますので、気負いなく取り組んでください！\n",
    "0点になることも普通にあり得るので、点数はまったく気にしないでください。\n",
    "講座の最後にもう一度同じ問題を解いてもらいますので、現在と約50分後で、どのように見え方が変わったのかを体験してもらうことを目的としています。\n",
    "\n",
    "以下のリンクから受験ページへアクセスしてください。\n",
    "\n",
    "https://exam.diveintocode.jp/users/sign_in\n",
    "\n",
    "\n",
    "<a href=\"https://diveintocode.gyazo.com/bfb8976b0fa474d1bf08fe72876cb6ac\"><img src=\"https://t.gyazo.com/teams/diveintocode/bfb8976b0fa474d1bf08fe72876cb6ac.png\" alt=\"Image from Gyazo\" width=\"2334\"/></a>\n",
    "\n"
   ]
  },
  {
   "cell_type": "markdown",
   "metadata": {
    "colab_type": "text",
    "id": "VlI10NN3rLxg"
   },
   "source": [
    "### 模擬試験お疲れさまでした！！\n",
    "\n",
    "---"
   ]
  },
  {
   "cell_type": "code",
   "execution_count": null,
   "metadata": {
    "colab": {},
    "colab_type": "code",
    "id": "UXMDSQxM0kTi"
   },
   "outputs": [],
   "source": []
  },
  {
   "cell_type": "code",
   "execution_count": null,
   "metadata": {
    "colab": {},
    "colab_type": "code",
    "id": "z2dvPVz10kPn"
   },
   "outputs": [],
   "source": []
  },
  {
   "cell_type": "code",
   "execution_count": null,
   "metadata": {
    "colab": {},
    "colab_type": "code",
    "id": "NKfiwYF50kMX"
   },
   "outputs": [],
   "source": []
  },
  {
   "cell_type": "code",
   "execution_count": null,
   "metadata": {
    "colab": {},
    "colab_type": "code",
    "id": "skDqZRvD0uB5"
   },
   "outputs": [],
   "source": []
  },
  {
   "cell_type": "code",
   "execution_count": null,
   "metadata": {
    "colab": {},
    "colab_type": "code",
    "id": "heXHFpDz0kJK"
   },
   "outputs": [],
   "source": []
  },
  {
   "cell_type": "code",
   "execution_count": null,
   "metadata": {
    "colab": {},
    "colab_type": "code",
    "id": "FXWElZdj0kFp"
   },
   "outputs": [],
   "source": []
  },
  {
   "cell_type": "code",
   "execution_count": null,
   "metadata": {
    "colab": {},
    "colab_type": "code",
    "id": "jI571EMl0kDy"
   },
   "outputs": [],
   "source": []
  },
  {
   "cell_type": "code",
   "execution_count": null,
   "metadata": {
    "colab": {},
    "colab_type": "code",
    "id": "IacfKASX0j-1"
   },
   "outputs": [],
   "source": []
  },
  {
   "cell_type": "markdown",
   "metadata": {
    "colab_type": "text",
    "id": "idqvyUcXrVZr"
   },
   "source": [
    "ここで、みなさんがこれから利用するColaboratoryというサービスについて説明します。"
   ]
  },
  {
   "cell_type": "markdown",
   "metadata": {
    "colab_type": "text",
    "id": "w3QAKLN4un07"
   },
   "source": [
    "<p><img alt=\"Colaboratory logo\" height=\"45px\" src=\"/img/colab_favicon.ico\" align=\"left\" hspace=\"10px\" vspace=\"0px\"></p>\n",
    "\n",
    "<h1>Colaboratory とは</h1>\n",
    "\n",
    "Colaboratory（略称: Colab）とは、ブラウザから Python を記述し実行できる環境のことを指します。\n",
    "\n",
    "Colab は、<strong>学生</strong>、<strong>データ サイエンティスト</strong>、<strong>AI リサーチャー</strong>の作業を効率化するツールです。詳しくは、<a href=\"https://www.youtube.com/watch?v=inN8seMm7UI\">Colab のご紹介</a>をご覧ください。"
   ]
  },
  {
   "cell_type": "markdown",
   "metadata": {
    "colab_type": "text",
    "id": "pd9RamwRuoOf"
   },
   "source": [
    "### <strong>このページは何？</strong>\n",
    "\n",
    "このページは、静的なウェブページではなく、<strong>Colab ノートブック</strong>という、コードを実行するための環境です。\n",
    "\n",
    "たとえば次の<strong>コードセル</strong>に値を入力して実行することができます。実行後は結果の出力が表示されます。"
   ]
  },
  {
   "cell_type": "code",
   "execution_count": null,
   "metadata": {
    "colab": {},
    "colab_type": "code",
    "id": "_slDiKVFqdS3"
   },
   "outputs": [],
   "source": []
  },
  {
   "cell_type": "markdown",
   "metadata": {
    "colab_type": "text",
    "id": "V5I6ngqcLjcb"
   },
   "source": [
    "## ２. 動画を見てみましょう（制限時間15分）\n",
    "\n",
    "今回の動画で取り扱う内容は、\n",
    "- 数値\n",
    "- 文字列\n",
    "- リスト\n",
    "\n",
    "です。\n",
    "\n",
    "動画は、「数値」編と「文字列」編、そして「リスト」編の３つに分かれています。\n",
    "このあとの、「動画について話してみよう」の時間にお一人ずつ内容について語ってもらいます。\n",
    "「数値・文字列・リスト」について、まったく知らない子供に、自分なりにやさしい言葉で語れるように、そういうつもりで動画を見てください。\n",
    "\n",
    "例）　「数値・文字列・リストのちがいは一言でいうと●●なんだよ。」\n",
    "\n",
    "それでは、以下のページから動画にアクセスしてください。\n",
    "\n",
    "[]()"
   ]
  },
  {
   "cell_type": "markdown",
   "metadata": {
    "colab_type": "text",
    "id": "jdASAVd0n8Rt"
   },
   "source": [
    "<a href=\"https://diveintocode.gyazo.com/1990623f930945b6776f65b318b56588\"><img src=\"https://t.gyazo.com/teams/diveintocode/1990623f930945b6776f65b318b56588.png\" alt=\"Image from Gyazo\" width=\"300\"/></a>"
   ]
  },
  {
   "cell_type": "markdown",
   "metadata": {
    "colab_type": "text",
    "id": "Yv3YTefpthti"
   },
   "source": [
    "---"
   ]
  },
  {
   "cell_type": "markdown",
   "metadata": {
    "colab_type": "text",
    "id": "KJErXpv0070H"
   },
   "source": [
    "### 動画視聴お疲れさまでした！！\n",
    "\n",
    "---"
   ]
  },
  {
   "cell_type": "code",
   "execution_count": null,
   "metadata": {
    "colab": {},
    "colab_type": "code",
    "id": "fD9Gtrm209qu"
   },
   "outputs": [],
   "source": []
  },
  {
   "cell_type": "code",
   "execution_count": null,
   "metadata": {
    "colab": {},
    "colab_type": "code",
    "id": "oKTZPDFe09oE"
   },
   "outputs": [],
   "source": []
  },
  {
   "cell_type": "code",
   "execution_count": null,
   "metadata": {
    "colab": {},
    "colab_type": "code",
    "id": "Yxn9RiNQ09kb"
   },
   "outputs": [],
   "source": []
  },
  {
   "cell_type": "code",
   "execution_count": null,
   "metadata": {},
   "outputs": [],
   "source": []
  },
  {
   "cell_type": "markdown",
   "metadata": {
    "colab": {},
    "colab_type": "code",
    "id": "dEeMoemo09ht"
   },
   "source": [
    "### 休憩時間（5分）"
   ]
  },
  {
   "cell_type": "code",
   "execution_count": null,
   "metadata": {
    "colab": {},
    "colab_type": "code",
    "id": "djvm1YxN09be"
   },
   "outputs": [],
   "source": []
  },
  {
   "cell_type": "code",
   "execution_count": null,
   "metadata": {
    "colab": {},
    "colab_type": "code",
    "id": "mpUmazi109Yt"
   },
   "outputs": [],
   "source": []
  },
  {
   "cell_type": "code",
   "execution_count": null,
   "metadata": {
    "colab": {},
    "colab_type": "code",
    "id": "UBWlCUF309Vz"
   },
   "outputs": [],
   "source": []
  },
  {
   "cell_type": "code",
   "execution_count": null,
   "metadata": {
    "colab": {},
    "colab_type": "code",
    "id": "nPbuAvxy09RV"
   },
   "outputs": [],
   "source": []
  },
  {
   "cell_type": "markdown",
   "metadata": {
    "colab_type": "text",
    "id": "uxFsWppYuKLu"
   },
   "source": [
    "## ３. みんなで動画について話してみよう（制限時間10分）\n",
    "\n",
    "\n",
    "先ほど視聴した動画の解説をまわりの人に伝えましょう。\n",
    "\n",
    "動画を見たことがなく、「数値・文字列・リスト」についてまったく知らない子供に、動画を見た限りでわかったことを、やさしい言葉で伝えてください。\n",
    "\n"
   ]
  },
  {
   "cell_type": "markdown",
   "metadata": {
    "colab_type": "text",
    "id": "DVwInHWsviUv"
   },
   "source": [
    "<a href=\"https://diveintocode.gyazo.com/5f613bec1b713b417b6665cbf5305c93\"><img src=\"https://t.gyazo.com/teams/diveintocode/5f613bec1b713b417b6665cbf5305c93.png\" alt=\"Image from Gyazo\" width=\"300\"/></a>"
   ]
  },
  {
   "cell_type": "markdown",
   "metadata": {
    "colab_type": "text",
    "id": "qQ4nowkvuenL"
   },
   "source": [
    "#### ★動画のノートブック★\n",
    "\n",
    "動画で使用されたノートブックは下記のリンク先に保存されています。\n",
    "「Open in Colab」ボタンを押して、さらに「Driveにコピー」して自分のGoogleドライブへ保存しましょう。\n",
    "\n",
    "[数値のノートブック](https://github.com/fregean/python3basic/blob/master/number.ipynb)\n",
    "\n",
    "[文字列のノートブック](https://github.com/fregean/python3basic/blob/master/string.ipynb)\n",
    "\n",
    "[リストのノートブック](https://github.com/fregean/python3basic/blob/master/list.ipynb)\n"
   ]
  },
  {
   "cell_type": "markdown",
   "metadata": {
    "colab_type": "text",
    "id": "mEEcyYLK1Nce"
   },
   "source": [
    "### 話し合いお疲れさまでした！！（^0^）\n",
    "\n",
    "---"
   ]
  },
  {
   "cell_type": "code",
   "execution_count": null,
   "metadata": {
    "colab": {},
    "colab_type": "code",
    "id": "B347hh5r1LdO"
   },
   "outputs": [],
   "source": []
  },
  {
   "cell_type": "code",
   "execution_count": null,
   "metadata": {
    "colab": {},
    "colab_type": "code",
    "id": "Gy24HWdS1LW_"
   },
   "outputs": [],
   "source": []
  },
  {
   "cell_type": "code",
   "execution_count": null,
   "metadata": {
    "colab": {},
    "colab_type": "code",
    "id": "P3OZE9rD1LR3"
   },
   "outputs": [],
   "source": []
  },
  {
   "cell_type": "code",
   "execution_count": null,
   "metadata": {
    "colab": {},
    "colab_type": "code",
    "id": "KjwqGItD1LMz"
   },
   "outputs": [],
   "source": []
  },
  {
   "cell_type": "code",
   "execution_count": null,
   "metadata": {
    "colab": {},
    "colab_type": "code",
    "id": "GGazKr0P1LHC"
   },
   "outputs": [],
   "source": []
  },
  {
   "cell_type": "code",
   "execution_count": null,
   "metadata": {
    "colab": {},
    "colab_type": "code",
    "id": "Almb_gkR1LBm"
   },
   "outputs": [],
   "source": []
  },
  {
   "cell_type": "code",
   "execution_count": null,
   "metadata": {
    "colab": {},
    "colab_type": "code",
    "id": "jOtwe3e91K6-"
   },
   "outputs": [],
   "source": []
  },
  {
   "cell_type": "code",
   "execution_count": null,
   "metadata": {
    "colab": {},
    "colab_type": "code",
    "id": "BMNnJh5t1Kdu"
   },
   "outputs": [],
   "source": []
  },
  {
   "cell_type": "markdown",
   "metadata": {
    "colab_type": "text",
    "id": "AZIst8YJvIkg"
   },
   "source": [
    "## ４. 探求してみよう（制限時間15分）\n",
    "\n",
    "ここまでの30分間に、みなさんは模擬試験を受けて、動画を視聴し、その内容についてお互いに話したり聞いたりしました。\n",
    "\n",
    "いまみなさんの頭の中には、「数値」と「文字列」と「リスト」についての、さまざまな情報や、それに結びついたイメージがいり混じっていると思います。\n",
    "\n",
    "ここからの15分は、ひとりでその情報やイメージの整理を行ってください。\n",
    "\n",
    "整理には、動画で出てきたノートブックをご活用ください。\n",
    "\n",
    "ノートブックの下部には、「考えるヒント」として、事例を考えるための問いかけが載っています。ぜひ考えてみてください。\n",
    "\n",
    "15分たったら、再びDIVE INTO EXAMの模擬試験を5分間解いてもらいます。\n",
    "\n"
   ]
  },
  {
   "cell_type": "markdown",
   "metadata": {
    "colab_type": "text",
    "id": "Lbbszu5pv0Gm"
   },
   "source": [
    "<a href=\"https://diveintocode.gyazo.com/b7cae49ff0042d1b430e751c1c762773\"><img src=\"https://t.gyazo.com/teams/diveintocode/b7cae49ff0042d1b430e751c1c762773.png\" alt=\"Image from Gyazo\" width=\"300\"/></a>"
   ]
  },
  {
   "cell_type": "markdown",
   "metadata": {
    "colab_type": "text",
    "id": "JbnpXkGB1inO"
   },
   "source": [
    "**Python3エンジニア認定基礎試験**の 出題範囲は、Python公式サイトでも公開されています。\n",
    "\n",
    "今回の講座で扱っている範囲の内容は、以下のリンク先のページに記載されています。\n",
    "\n",
    "[数](https://docs.python.org/ja/3.5/tutorial/introduction.html#numbers)\n",
    "\n",
    "[文字列型](https://docs.python.org/ja/3.5/tutorial/introduction.html#strings)\n",
    "\n",
    "[リスト型](https://docs.python.org/ja/3.5/tutorial/introduction.html#lists)\n",
    "\n",
    "\n",
    "\n",
    "<a href=\"https://diveintocode.gyazo.com/74b90899106e751c12a1e391e7114860\"><img src=\"https://t.gyazo.com/teams/diveintocode/74b90899106e751c12a1e391e7114860.png\" alt=\"Image from Gyazo\" width=\"300\"/></a>"
   ]
  },
  {
   "cell_type": "markdown",
   "metadata": {
    "colab_type": "text",
    "id": "Hc4VTvJeHaEe"
   },
   "source": [
    "### 探求お疲れさまでした！！ （^▽^）\n",
    "\n",
    "---"
   ]
  },
  {
   "cell_type": "code",
   "execution_count": null,
   "metadata": {
    "colab": {},
    "colab_type": "code",
    "id": "uvFTFIjjHQZU"
   },
   "outputs": [],
   "source": []
  },
  {
   "cell_type": "code",
   "execution_count": null,
   "metadata": {
    "colab": {},
    "colab_type": "code",
    "id": "3rUCIr-RHQSW"
   },
   "outputs": [],
   "source": []
  },
  {
   "cell_type": "code",
   "execution_count": null,
   "metadata": {
    "colab": {},
    "colab_type": "code",
    "id": "wDvqsxSaHQPO"
   },
   "outputs": [],
   "source": []
  },
  {
   "cell_type": "code",
   "execution_count": null,
   "metadata": {
    "colab": {},
    "colab_type": "code",
    "id": "ocssFfFEHQMf"
   },
   "outputs": [],
   "source": []
  },
  {
   "cell_type": "code",
   "execution_count": null,
   "metadata": {
    "colab": {},
    "colab_type": "code",
    "id": "YIOTe_HAHQF1"
   },
   "outputs": [],
   "source": []
  },
  {
   "cell_type": "code",
   "execution_count": null,
   "metadata": {
    "colab": {},
    "colab_type": "code",
    "id": "ADUWrvZaHQCN"
   },
   "outputs": [],
   "source": []
  },
  {
   "cell_type": "code",
   "execution_count": null,
   "metadata": {
    "colab": {},
    "colab_type": "code",
    "id": "1AQgHbvsHP8N"
   },
   "outputs": [],
   "source": []
  },
  {
   "cell_type": "code",
   "execution_count": null,
   "metadata": {
    "colab": {},
    "colab_type": "code",
    "id": "e82r-7s8HP3H"
   },
   "outputs": [],
   "source": []
  },
  {
   "cell_type": "markdown",
   "metadata": {
    "colab_type": "text",
    "id": "fB1LGkaaw6W7"
   },
   "source": [
    "## ５. **DIVE INTO EXAM** の問題を**５問**解きましょう（制限時間１分 × ５問）\n",
    "\n",
    "以下のリンクから受験ページへアクセスしてください。\n",
    "\n",
    "\n",
    "https://exam.diveintocode.jp/users/sign_in\n",
    "\n",
    "---"
   ]
  },
  {
   "cell_type": "markdown",
   "metadata": {
    "colab_type": "text",
    "id": "gCDKUfCwxH3y"
   },
   "source": [
    "<a href=\"https://diveintocode.gyazo.com/0260a79a95690af701391b444c2fa2ec\"><img src=\"https://t.gyazo.com/teams/diveintocode/0260a79a95690af701391b444c2fa2ec.png\" alt=\"Image from Gyazo\" width=\"300\"/></a>"
   ]
  },
  {
   "cell_type": "markdown",
   "metadata": {
    "colab_type": "text",
    "id": "Z1n1ni_WzJzA"
   },
   "source": [
    "### 講座の受講お疲れさまでした！！"
   ]
  },
  {
   "cell_type": "code",
   "execution_count": null,
   "metadata": {
    "colab": {},
    "colab_type": "code",
    "id": "6yr5m3a85HTO"
   },
   "outputs": [],
   "source": []
  }
 ],
 "metadata": {
  "accelerator": "GPU",
  "colab": {
   "collapsed_sections": [],
   "name": "Python3notebook（8/7）",
   "provenance": []
  },
  "kernelspec": {
   "display_name": "Python 3",
   "language": "python",
   "name": "python3"
  },
  "language_info": {
   "codemirror_mode": {
    "name": "ipython",
    "version": 3
   },
   "file_extension": ".py",
   "mimetype": "text/x-python",
   "name": "python",
   "nbconvert_exporter": "python",
   "pygments_lexer": "ipython3",
   "version": "3.7.3"
  },
  "latex_envs": {
   "LaTeX_envs_menu_present": true,
   "autoclose": false,
   "autocomplete": true,
   "bibliofile": "biblio.bib",
   "cite_by": "apalike",
   "current_citInitial": 1,
   "eqLabelWithNumbers": true,
   "eqNumInitial": 1,
   "hotkeys": {
    "equation": "Ctrl-E",
    "itemize": "Ctrl-I"
   },
   "labels_anchors": false,
   "latex_user_defs": false,
   "report_style_numbering": false,
   "user_envs_cfg": false
  },
  "toc": {
   "base_numbering": 1,
   "nav_menu": {},
   "number_sections": true,
   "sideBar": true,
   "skip_h1_title": false,
   "title_cell": "Table of Contents",
   "title_sidebar": "Contents",
   "toc_cell": false,
   "toc_position": {},
   "toc_section_display": true,
   "toc_window_display": false
  }
 },
 "nbformat": 4,
 "nbformat_minor": 1
}
