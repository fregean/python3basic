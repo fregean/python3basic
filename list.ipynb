{
  "nbformat": 4,
  "nbformat_minor": 0,
  "metadata": {
    "kernelspec": {
      "display_name": "Python 3",
      "language": "python",
      "name": "python3"
    },
    "language_info": {
      "codemirror_mode": {
        "name": "ipython",
        "version": 3
      },
      "file_extension": ".py",
      "mimetype": "text/x-python",
      "name": "python",
      "nbconvert_exporter": "python",
      "pygments_lexer": "ipython3",
      "version": "3.7.3"
    },
    "colab": {
      "name": "list.ipynb",
      "provenance": [],
      "collapsed_sections": [],
      "toc_visible": true
    }
  },
  "cells": [
    {
      "cell_type": "markdown",
      "metadata": {
        "id": "UuKV-k736ziS",
        "colab_type": "text"
      },
      "source": [
        "<a href=\"https://colab.research.google.com/github/fregean/python3basic/blob/master/list.ipynb\" target=\"_parent\"><img src=\"https://colab.research.google.com/assets/colab-badge.svg\" alt=\"Open In Colab\"/></a>"
      ]
    },
    {
      "cell_type": "markdown",
      "metadata": {
        "id": "S6rPDyKiaETT",
        "colab_type": "text"
      },
      "source": [
        ">## リストとは\n",
        "\n",
        "カンマ（ , ）で区切られた複数の要素を、角カッコで囲んだデータのことです。\n",
        "\n",
        "文字列とちがい、一部の要素を書き換えることができます。"
      ]
    },
    {
      "cell_type": "markdown",
      "metadata": {
        "id": "N1HOAufkaETV",
        "colab_type": "text"
      },
      "source": [
        "<a href=\"https://diveintocode.gyazo.com/dcfa5cf223f98e628a57b951e6b36e7c\"><img src=\"https://t.gyazo.com/teams/diveintocode/dcfa5cf223f98e628a57b951e6b36e7c.png\" alt=\"Image from Gyazo\" width=\"500\"/></a>"
      ]
    },
    {
      "cell_type": "code",
      "metadata": {
        "id": "b9Z3eJelaETW",
        "colab_type": "code",
        "colab": {}
      },
      "source": [
        "a = 1\n",
        "b = 2\n",
        "c = 3\n",
        "d = 4\n",
        "e  =5\n",
        "f = 6\n",
        "g = 7\n",
        "h = 8\n",
        "i = 9\n",
        "j =10"
      ],
      "execution_count": null,
      "outputs": []
    },
    {
      "cell_type": "code",
      "metadata": {
        "id": "o1QL_xU3aETc",
        "colab_type": "code",
        "colab": {}
      },
      "source": [
        "numbers = [1, 2, 3, 4, 5, 6, 7, 8, 9, 10]"
      ],
      "execution_count": null,
      "outputs": []
    },
    {
      "cell_type": "code",
      "metadata": {
        "id": "KWvJiuzlo5Li",
        "colab_type": "code",
        "colab": {
          "base_uri": "https://localhost:8080/",
          "height": 34
        },
        "outputId": "a569618f-0610-4567-e27e-7640dd28cec9"
      },
      "source": [
        "numbers"
      ],
      "execution_count": null,
      "outputs": [
        {
          "output_type": "execute_result",
          "data": {
            "text/plain": [
              "[1, 2, 3, 4, 5, 6, 7, 8, 9, 10]"
            ]
          },
          "metadata": {
            "tags": []
          },
          "execution_count": 72
        }
      ]
    },
    {
      "cell_type": "code",
      "metadata": {
        "id": "Ab9Sz690aETs",
        "colab_type": "code",
        "colab": {}
      },
      "source": [
        "letters = ['H','a','p','p','y', ' ', 'C', 'o', 'd', 'i', 'n', 'g']"
      ],
      "execution_count": 154,
      "outputs": []
    },
    {
      "cell_type": "markdown",
      "metadata": {
        "id": "UsW0MW3FaETw",
        "colab_type": "text"
      },
      "source": [
        "<a href=\"https://diveintocode.gyazo.com/3f59ae87d5fa499b2b411433a84d7857\"><img src=\"https://t.gyazo.com/teams/diveintocode/3f59ae87d5fa499b2b411433a84d7857.png\" alt=\"Image from Gyazo\" width=\"800\"/></a>"
      ]
    },
    {
      "cell_type": "code",
      "metadata": {
        "id": "q7ZgDkm2uEJ5",
        "colab_type": "code",
        "colab": {
          "base_uri": "https://localhost:8080/",
          "height": 35
        },
        "outputId": "23b5b185-bd7a-43f5-87fb-dd2a97fa58a9"
      },
      "source": [
        "letters[4]"
      ],
      "execution_count": null,
      "outputs": [
        {
          "output_type": "execute_result",
          "data": {
            "application/vnd.google.colaboratory.intrinsic+json": {
              "type": "string"
            },
            "text/plain": [
              "'y'"
            ]
          },
          "metadata": {
            "tags": []
          },
          "execution_count": 75
        }
      ]
    },
    {
      "cell_type": "code",
      "metadata": {
        "id": "Zkt3rLZauDxm",
        "colab_type": "code",
        "colab": {
          "base_uri": "https://localhost:8080/",
          "height": 35
        },
        "outputId": "73024f80-bc6c-49de-bea9-0bccf41ef558"
      },
      "source": [
        "letters[-5]"
      ],
      "execution_count": null,
      "outputs": [
        {
          "output_type": "execute_result",
          "data": {
            "application/vnd.google.colaboratory.intrinsic+json": {
              "type": "string"
            },
            "text/plain": [
              "'o'"
            ]
          },
          "metadata": {
            "tags": []
          },
          "execution_count": 76
        }
      ]
    },
    {
      "cell_type": "code",
      "metadata": {
        "id": "KSdr0G2KuDtQ",
        "colab_type": "code",
        "colab": {
          "base_uri": "https://localhost:8080/",
          "height": 168
        },
        "outputId": "74195b11-38eb-4301-b5db-03631887fe9e"
      },
      "source": [
        "letters[12]"
      ],
      "execution_count": null,
      "outputs": [
        {
          "output_type": "error",
          "ename": "IndexError",
          "evalue": "ignored",
          "traceback": [
            "\u001b[0;31m---------------------------------------------------------------------------\u001b[0m",
            "\u001b[0;31mIndexError\u001b[0m                                Traceback (most recent call last)",
            "\u001b[0;32m<ipython-input-77-f9d8d77d3980>\u001b[0m in \u001b[0;36m<module>\u001b[0;34m()\u001b[0m\n\u001b[0;32m----> 1\u001b[0;31m \u001b[0mletters\u001b[0m\u001b[0;34m[\u001b[0m\u001b[0;36m12\u001b[0m\u001b[0;34m]\u001b[0m\u001b[0;34m\u001b[0m\u001b[0;34m\u001b[0m\u001b[0m\n\u001b[0m",
            "\u001b[0;31mIndexError\u001b[0m: list index out of range"
          ]
        }
      ]
    },
    {
      "cell_type": "code",
      "metadata": {
        "id": "amAxwjYpuDnZ",
        "colab_type": "code",
        "colab": {}
      },
      "source": [
        "letters[6:] = 'Birthday'"
      ],
      "execution_count": 155,
      "outputs": []
    },
    {
      "cell_type": "code",
      "metadata": {
        "id": "wDtll_jiuMEM",
        "colab_type": "code",
        "colab": {
          "base_uri": "https://localhost:8080/",
          "height": 34
        },
        "outputId": "15fc2b51-43d7-4538-b662-d985ab0e53f2"
      },
      "source": [
        "letters"
      ],
      "execution_count": 156,
      "outputs": [
        {
          "output_type": "execute_result",
          "data": {
            "text/plain": [
              "['H', 'a', 'p', 'p', 'y', ' ', 'B', 'i', 'r', 't', 'h', 'd', 'a', 'y']"
            ]
          },
          "metadata": {
            "tags": []
          },
          "execution_count": 156
        }
      ]
    },
    {
      "cell_type": "code",
      "metadata": {
        "id": "nWlaaAOxo1al",
        "colab_type": "code",
        "colab": {}
      },
      "source": [
        "letters[-1] = 20200809"
      ],
      "execution_count": 157,
      "outputs": []
    },
    {
      "cell_type": "code",
      "metadata": {
        "id": "Uljy3RKZuOgG",
        "colab_type": "code",
        "colab": {
          "base_uri": "https://localhost:8080/",
          "height": 34
        },
        "outputId": "6cc61b45-23b4-4b4a-e63d-28090a949950"
      },
      "source": [
        "letters"
      ],
      "execution_count": 176,
      "outputs": [
        {
          "output_type": "execute_result",
          "data": {
            "text/plain": [
              "['H', 'a', 'p', 'p', 'y', ' ', 'B', 'i', 'r', 't', 'h', 'd', 'a', 'y', 2020080]"
            ]
          },
          "metadata": {
            "tags": []
          },
          "execution_count": 176
        }
      ]
    },
    {
      "cell_type": "code",
      "metadata": {
        "id": "78YWZnG3aEUW",
        "colab_type": "code",
        "colab": {}
      },
      "source": [
        "letters = ['H','a','p','p','y', ' ', 'B', 'i', 'r', 't', 'h', 'd','a','y']"
      ],
      "execution_count": 177,
      "outputs": []
    },
    {
      "cell_type": "code",
      "metadata": {
        "id": "q3tY5h9jkZyZ",
        "colab_type": "code",
        "colab": {}
      },
      "source": [
        "letters.append(20200809)"
      ],
      "execution_count": 178,
      "outputs": []
    },
    {
      "cell_type": "code",
      "metadata": {
        "id": "6L98kCKlsUgR",
        "colab_type": "code",
        "colab": {
          "base_uri": "https://localhost:8080/",
          "height": 272
        },
        "outputId": "d8f9dbe8-f1a0-4750-e078-a8c6dca8590a"
      },
      "source": [
        "letters"
      ],
      "execution_count": 179,
      "outputs": [
        {
          "output_type": "execute_result",
          "data": {
            "text/plain": [
              "['H',\n",
              " 'a',\n",
              " 'p',\n",
              " 'p',\n",
              " 'y',\n",
              " ' ',\n",
              " 'B',\n",
              " 'i',\n",
              " 'r',\n",
              " 't',\n",
              " 'h',\n",
              " 'd',\n",
              " 'a',\n",
              " 'y',\n",
              " 20200809]"
            ]
          },
          "metadata": {
            "tags": []
          },
          "execution_count": 179
        }
      ]
    },
    {
      "cell_type": "code",
      "metadata": {
        "id": "kQc-oo1yaEVY",
        "colab_type": "code",
        "colab": {}
      },
      "source": [
        "weekdays = ['Monday', 'Tuesday', 'Wednesday', 'Thursday', 'Friday']"
      ],
      "execution_count": null,
      "outputs": []
    },
    {
      "cell_type": "code",
      "metadata": {
        "id": "RO5QX6DUaEVa",
        "colab_type": "code",
        "colab": {}
      },
      "source": [
        "months = [1, 2, 3, 4, 5, 6, 7, 8, 9, 10, 11, 12]"
      ],
      "execution_count": null,
      "outputs": []
    },
    {
      "cell_type": "code",
      "metadata": {
        "id": "pKrPS0eysScz",
        "colab_type": "code",
        "colab": {
          "base_uri": "https://localhost:8080/",
          "height": 34
        },
        "outputId": "3ddb04b7-7238-4c29-be31-ab2a3efa66ed"
      },
      "source": [
        "len(weekdays)"
      ],
      "execution_count": null,
      "outputs": [
        {
          "output_type": "execute_result",
          "data": {
            "text/plain": [
              "5"
            ]
          },
          "metadata": {
            "tags": []
          },
          "execution_count": 87
        }
      ]
    },
    {
      "cell_type": "code",
      "metadata": {
        "id": "dfaPq49EsSYs",
        "colab_type": "code",
        "colab": {
          "base_uri": "https://localhost:8080/",
          "height": 34
        },
        "outputId": "5b600fdd-690c-42b4-f84b-d02acf02c96a"
      },
      "source": [
        "len(months)"
      ],
      "execution_count": null,
      "outputs": [
        {
          "output_type": "execute_result",
          "data": {
            "text/plain": [
              "12"
            ]
          },
          "metadata": {
            "tags": []
          },
          "execution_count": 88
        }
      ]
    },
    {
      "cell_type": "code",
      "metadata": {
        "id": "16EWPE1SsSVJ",
        "colab_type": "code",
        "colab": {}
      },
      "source": [
        "schedule = [weekdays, months]"
      ],
      "execution_count": null,
      "outputs": []
    },
    {
      "cell_type": "code",
      "metadata": {
        "id": "EoTsnmKjsSSH",
        "colab_type": "code",
        "colab": {
          "base_uri": "https://localhost:8080/",
          "height": 51
        },
        "outputId": "9f84d0e2-9e70-46c3-97e6-9800d754b18d"
      },
      "source": [
        "schedule"
      ],
      "execution_count": null,
      "outputs": [
        {
          "output_type": "execute_result",
          "data": {
            "text/plain": [
              "[['Monday', 'Tuesday', 'Wednesday', 'Thursday', 'Friday'],\n",
              " [1, 2, 3, 4, 5, 6, 7, 8, 9, 10, 11, 12]]"
            ]
          },
          "metadata": {
            "tags": []
          },
          "execution_count": 90
        }
      ]
    },
    {
      "cell_type": "code",
      "metadata": {
        "id": "lpso3mwbsSPb",
        "colab_type": "code",
        "colab": {
          "base_uri": "https://localhost:8080/",
          "height": 34
        },
        "outputId": "0fa580ec-1856-4246-b731-b290f36bc50b"
      },
      "source": [
        "len(schedule)"
      ],
      "execution_count": null,
      "outputs": [
        {
          "output_type": "execute_result",
          "data": {
            "text/plain": [
              "2"
            ]
          },
          "metadata": {
            "tags": []
          },
          "execution_count": 91
        }
      ]
    },
    {
      "cell_type": "code",
      "metadata": {
        "id": "7CAVxcGCsSMc",
        "colab_type": "code",
        "colab": {
          "base_uri": "https://localhost:8080/",
          "height": 34
        },
        "outputId": "4c385138-146e-461c-970d-1cac95424ce1"
      },
      "source": [
        "schedule[0]"
      ],
      "execution_count": null,
      "outputs": [
        {
          "output_type": "execute_result",
          "data": {
            "text/plain": [
              "['Monday', 'Tuesday', 'Wednesday', 'Thursday', 'Friday']"
            ]
          },
          "metadata": {
            "tags": []
          },
          "execution_count": 92
        }
      ]
    },
    {
      "cell_type": "code",
      "metadata": {
        "id": "JKvATginsSJH",
        "colab_type": "code",
        "colab": {
          "base_uri": "https://localhost:8080/",
          "height": 35
        },
        "outputId": "52f4bda1-c2d0-4385-ff6b-d5aafcc1f230"
      },
      "source": [
        "schedule[0][2]"
      ],
      "execution_count": null,
      "outputs": [
        {
          "output_type": "execute_result",
          "data": {
            "application/vnd.google.colaboratory.intrinsic+json": {
              "type": "string"
            },
            "text/plain": [
              "'Wednesday'"
            ]
          },
          "metadata": {
            "tags": []
          },
          "execution_count": 93
        }
      ]
    },
    {
      "cell_type": "code",
      "metadata": {
        "id": "HjYEIt81sSFV",
        "colab_type": "code",
        "colab": {}
      },
      "source": [
        ""
      ],
      "execution_count": null,
      "outputs": []
    },
    {
      "cell_type": "code",
      "metadata": {
        "id": "uvpSWeFLsSA9",
        "colab_type": "code",
        "colab": {}
      },
      "source": [
        ""
      ],
      "execution_count": null,
      "outputs": []
    },
    {
      "cell_type": "markdown",
      "metadata": {
        "id": "8qpceM9-1mb_",
        "colab_type": "text"
      },
      "source": [
        "---\n",
        ">## リストの例を作ってみよう\n",
        "どんなものがリストに入るか例を作ってみよう<br>\n",
        "リスト同士を連結してみよう<br>\n",
        "リストの中身を繰り返してみよう\n",
        "\n",
        "\n",
        "```\n",
        "letters = ['H','a','p','p','y', ' ', 'B', 'i', 'r', 't', 'h', 'd','a','y']\n",
        "\n",
        "weekdays = ['Monday', 'Tuesday', 'Wednesday', 'Thursday', 'Friday']\n",
        "```\n",
        "このとき、　weekdays　+ letters を実行するとどうなる？\n",
        "\n",
        "weekdays * 2 を実行するとどうなる？\n",
        "\n",
        "[weekdays] * 2 を実行するとどうなる？\n",
        "\n"
      ]
    },
    {
      "cell_type": "markdown",
      "metadata": {
        "id": "QtuPX0Nk5ebR",
        "colab_type": "text"
      },
      "source": [
        ">## リストの中身を取り出そう\n",
        "インデックス表記（インデックスを指定して要素にアクセスする）でリストの中身を取り出してみよう<br>\n",
        "スライス（コロン（：）でリストの部分を切り出す）のインデックスを使ってリストの要素を取り出してみよう\n",
        "\n",
        "```\n",
        "months = [1, 2, 3, 4, 5, 6, 7, 8, 9, 10, 11, 12]\n",
        "```\n",
        "\n",
        "このとき months[-3:]　を実行するとどうなる？\n",
        "\n",
        "months[-10:4]を実行するとどうなる？\n",
        "\n",
        "months[:] を実行するとどうなる？\n"
      ]
    },
    {
      "cell_type": "markdown",
      "metadata": {
        "id": "kJ7fUtsj6Jt5",
        "colab_type": "text"
      },
      "source": [
        ">## リストに新しい要素を追加してみよう\n",
        "インデックス表記（インデックスを指定して要素にアクセスする）を用いて、新しい要素に置き換えれるかな？<br>\n",
        "append() を使って、リストの末尾に要素を追加できるかな？\n",
        "\n",
        "```\n",
        "days = ['Monday', 'Tuesday', 'Wednesday', 'Thursday', 'Friday']\n",
        "```\n",
        "リストのdaysに、'Saturday' と 'Sunday' という要素を追加できるかな？\n"
      ]
    }
  ]
}