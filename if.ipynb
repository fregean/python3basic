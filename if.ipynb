{
 "cells": [
  {
   "cell_type": "markdown",
   "metadata": {},
   "source": [
    "># if文\n",
    "> 条件式が真（True）であるか偽（False）であるかを判定し、真である条件式の処理を実行する\n"
   ]
  },
  {
   "cell_type": "markdown",
   "metadata": {},
   "source": [
    "<a href=\"https://diveintocode.gyazo.com/6a248ca02da42d5d8b119dc1660d5975\"><img src=\"https://t.gyazo.com/teams/diveintocode/6a248ca02da42d5d8b119dc1660d5975.png\" alt=\"Image from Gyazo\" width=\"500\"/></a>"
   ]
  },
  {
   "cell_type": "code",
   "execution_count": null,
   "metadata": {},
   "outputs": [],
   "source": []
  },
  {
   "cell_type": "markdown",
   "metadata": {},
   "source": [
    "### ハンバーガーを注文しよう（例１\n",
    "\n",
    "もしチーズを入れるなら\n",
    "    \n",
    "    「お会計は、340円です。」"
   ]
  },
  {
   "cell_type": "markdown",
   "metadata": {},
   "source": [
    ">### 使用する文法\n",
    "\n",
    "if (条件式):\n",
    "\n",
    "    ブロックコード"
   ]
  },
  {
   "cell_type": "code",
   "execution_count": 34,
   "metadata": {},
   "outputs": [
    {
     "name": "stdout",
     "output_type": "stream",
     "text": [
      "店員：「お会計は、340円です。」\n"
     ]
    }
   ],
   "source": [
    "# チーズを入れた場合のお会計を表示するプログラム\n",
    "\n",
    "has_cheese = True # チーズを入れる？ 入れる：True  入れない：False いずれかをセットする\n",
    "\n",
    "if has_cheese: # チーズを入れるなら\n",
    "    \n",
    "    print('店員：「お会計は、340円です。」')"
   ]
  },
  {
   "cell_type": "markdown",
   "metadata": {},
   "source": [
    "---\n",
    "### ハンバーガーを注文しよう（例２\n",
    "\n",
    "もしチーズを入れるなら\n",
    "    \n",
    "    「お会計は、340円です。」\n",
    "    \n",
    "そうでないなら\n",
    "\n",
    "    「お会計は240円です。」    "
   ]
  },
  {
   "cell_type": "markdown",
   "metadata": {},
   "source": [
    ">### 使用する文法 \n",
    "\n",
    "if (条件式):\n",
    "\n",
    "    ブロックコード\n",
    "    \n",
    "else:\n",
    "    \n",
    "    ブロックコード"
   ]
  },
  {
   "cell_type": "code",
   "execution_count": 29,
   "metadata": {},
   "outputs": [
    {
     "name": "stdout",
     "output_type": "stream",
     "text": [
      "店員：「お会計は240円です。」\n"
     ]
    }
   ],
   "source": [
    "#チーズを入れた場合と入れない場合それぞれのお会計を表示するプログラム\n",
    "\n",
    "has_cheese = False # チーズを入れる？ 入れる：True  入れない：False いずれかをセットする\n",
    "\n",
    "if has_cheese: # チーズを入れるなら\n",
    "    \n",
    "    print('店員：「お会計は、340円です。」')\n",
    "    \n",
    "else: # チーズを入れないなら\n",
    "    \n",
    "    print('店員：「お会計は240円です。」')"
   ]
  },
  {
   "cell_type": "markdown",
   "metadata": {},
   "source": [
    "---\n",
    "### ハンバーガーを注文しよう（例３\n",
    "\n",
    "もしピクルスを抜くなら\n",
    "    \n",
    "    「お会計は、240円です。」\n",
    "    \n",
    "そうでないなら\n",
    "\n",
    "    「お会計は、240円です。」 "
   ]
  },
  {
   "cell_type": "code",
   "execution_count": 30,
   "metadata": {},
   "outputs": [
    {
     "name": "stdout",
     "output_type": "stream",
     "text": [
      "店員：「お会計は、240円です。(笑」\n"
     ]
    }
   ],
   "source": [
    "# ピクルスを抜いた場合と抜かない場合それぞれのお会計を表示する\n",
    "\n",
    "has_no_pickles = True # ピクルスを抜く? 抜く：True  抜かない：False いずれかをセットする\n",
    "\n",
    "if has_no_pickles: # ピクルスを抜くなら\n",
    "    \n",
    "    print('店員：「お会計は、240円です。(笑」') # ピクルス抜いたのに安くならない！！ (; 0 ;)\n",
    "    \n",
    "else: # ピクルスを抜かないなら\n",
    "    \n",
    "    print('店員：「お会計は、240円です。」')"
   ]
  },
  {
   "cell_type": "markdown",
   "metadata": {},
   "source": [
    "<a href=\"https://diveintocode.gyazo.com/05ff7839bea0738ed7a8f235d503682d\"><img src=\"https://t.gyazo.com/teams/diveintocode/05ff7839bea0738ed7a8f235d503682d.png\" alt=\"Image from Gyazo\" width=\"500\"/></a>"
   ]
  },
  {
   "cell_type": "markdown",
   "metadata": {},
   "source": [
    "### ちょっとPythonの気持ちを考えてみよう\n",
    "\n",
    "Pythonは、「チーズを入れるか」「チーズを入れないか」「ピクルスを抜くか」「ピクルスを抜かないか」を判定しているように見えますが、\n",
    "\n",
    "シンプルに「<span style=\"color: #d61b09\">真（True）</span>」か「<span style=\"color: #d61b09\">偽（False）</span>」か（真理値）を判定しています。\n",
    "\n",
    "試しに、ifの後ろの条件式を<span style=\"color: #d61b09\">True</span>や<span style=\"color: #d61b09\">False</span>に置き換えてみよう。"
   ]
  },
  {
   "cell_type": "code",
   "execution_count": 31,
   "metadata": {},
   "outputs": [
    {
     "name": "stdout",
     "output_type": "stream",
     "text": [
      "店員：「お会計は、340円です。」\n"
     ]
    }
   ],
   "source": [
    "# 条件式にTrueをセットする→処理（print）を実行する\n",
    "\n",
    "if True: # 真がセットされるなら\n",
    "    \n",
    "    print('店員：「お会計は、340円です。」')"
   ]
  },
  {
   "cell_type": "code",
   "execution_count": 32,
   "metadata": {},
   "outputs": [],
   "source": [
    "# 条件式にFalseをセットする→処理（print）を実行しない\n",
    "\n",
    "if False:　# 真がセットされるなら\n",
    "    \n",
    "    print('店員：「お会計は、340円です。」')"
   ]
  },
  {
   "cell_type": "code",
   "execution_count": 33,
   "metadata": {},
   "outputs": [
    {
     "name": "stdout",
     "output_type": "stream",
     "text": [
      "店員：「お会計は、240円です。」\n"
     ]
    }
   ],
   "source": [
    "# 条件式にTrueがセットされるなら→上の処理（print）を実行する\n",
    "# 条件式にFalseがセットされるなら→下の処理（print）を実行する\n",
    "\n",
    "\n",
    "if False:\n",
    "    \n",
    "    print('店員：「お会計は、340円です。」')\n",
    "    \n",
    "else:\n",
    "    \n",
    "    print('店員：「お会計は、240円です。」')"
   ]
  },
  {
   "cell_type": "markdown",
   "metadata": {},
   "source": [
    "---\n",
    "\n",
    "もう少し注文の選択肢を増やしたい\n",
    "\n",
    "---\n",
    "### ハンバーガーを注文しよう（例４\n",
    "\n",
    "もしチーズを入れるなら\n",
    "    \n",
    "    「お会計は、340円です。」\n",
    "    \n",
    "もしトマトを入れるなら\n",
    "\n",
    "    「お会計は、390円です。」\n",
    "    \n",
    "どちらも入れないなら\n",
    "\n",
    "    「お会計は240円です。」 "
   ]
  },
  {
   "cell_type": "markdown",
   "metadata": {},
   "source": [
    ">### 使用する文法 \n",
    "\n",
    "if (条件式):\n",
    "\n",
    "    ブロックコード\n",
    "    \n",
    "elif (条件式):\n",
    "\n",
    "    ブロックコード\n",
    "    \n",
    "else:\n",
    "    \n",
    "    ブロックコード"
   ]
  },
  {
   "cell_type": "code",
   "execution_count": 52,
   "metadata": {},
   "outputs": [
    {
     "name": "stdout",
     "output_type": "stream",
     "text": [
      "店員：「お会計は、390円です。」\n"
     ]
    }
   ],
   "source": [
    "#チーズを入れた場合とトマトを入れた場合とどちらも入れない場合それぞれのお会計を表示するプログラム\n",
    "\n",
    "has_cheese = False # チーズを入れる？ 入れる：True  入れない：False いずれかをセットする\n",
    "has_tomato = True # トマトを入れる？ 入れる：True  入れない：False いずれかをセットする\n",
    "\n",
    "if has_cheese: # チーズを入れるなら\n",
    "    \n",
    "    print('店員：「お会計は、340円です。」')\n",
    "    \n",
    "elif has_tomato: # トマトを入れるなら\n",
    "    \n",
    "    print('店員：「お会計は、390円です。」')\n",
    "\n",
    "else: # どちらも入れないなら\n",
    "    \n",
    "    print('店員：「お会計は240円です。」')"
   ]
  },
  {
   "cell_type": "markdown",
   "metadata": {},
   "source": [
    "### 次はチーズとトマトを入れてみよう！"
   ]
  },
  {
   "cell_type": "code",
   "execution_count": 53,
   "metadata": {},
   "outputs": [
    {
     "name": "stdout",
     "output_type": "stream",
     "text": [
      "店員：「お会計は、340円です。」\n"
     ]
    }
   ],
   "source": [
    "#チーズを入れた場合とトマトを入れた場合とどちらも入れない場合それぞれのお会計を表示するプログラム\n",
    "\n",
    "has_cheese = True # チーズを入れる？ 入れる：True  入れない：False いずれかをセットする\n",
    "has_tomato = True # トマトを入れる？ 入れる：True  入れない：False いずれかをセットする\n",
    "\n",
    "if has_cheese: # チーズを入れるなら\n",
    "    \n",
    "    print('店員：「お会計は、340円です。」')\n",
    "    \n",
    "elif has_tomato: # トマトを入れるなら\n",
    "    \n",
    "    print('店員：「お会計は、390円です。」')\n",
    "\n",
    "else: # どちらも入れないなら\n",
    "    \n",
    "    print('店員：「お会計は240円です。」')"
   ]
  },
  {
   "cell_type": "markdown",
   "metadata": {},
   "source": [
    "？？？？　　\n",
    "\n",
    "チーズしか入っていない！！！！　\n",
    "\n",
    "elifを使った場合は、上から順番に判定されていき、条件を満たした時点でその後ろの判定は行われなくなります。\n",
    "\n",
    "同時に複数の条件式を判定したいときは and や or を用います。 "
   ]
  },
  {
   "cell_type": "markdown",
   "metadata": {},
   "source": [
    "---\n",
    "### ハンバーガーを注文しよう（例５\n",
    "\n",
    "もしチーズとトマトを入れるなら\n",
    "\n",
    "    「お会計は、490円です。」\n",
    "\n",
    "もしチーズだけ入れるなら\n",
    "    \n",
    "    「お会計は、340円です。」\n",
    "    \n",
    "もしトマトだけ入れるなら\n",
    "\n",
    "    「お会計は、390円です。」\n",
    "    \n",
    "どちらも入れないなら\n",
    "\n",
    "    「お会計は240円です。」 "
   ]
  },
  {
   "cell_type": "markdown",
   "metadata": {},
   "source": [
    ">### 使用する文法 \n",
    "\n",
    "if (条件式) <span style=\"color: #d61b09\">and</span> (条件式):\n",
    "\n",
    "    ブロックコード\n",
    "    \n",
    "elif (条件式):\n",
    "\n",
    "    ブロックコード\n",
    "    \n",
    "elif (条件式):\n",
    "\n",
    "    ブロックコード    \n",
    "    \n",
    "else:\n",
    "    \n",
    "    ブロックコード"
   ]
  },
  {
   "cell_type": "code",
   "execution_count": 55,
   "metadata": {},
   "outputs": [
    {
     "name": "stdout",
     "output_type": "stream",
     "text": [
      "店員：「お会計は、490円です。」\n"
     ]
    }
   ],
   "source": [
    "#チーズを入れた場合とトマトを入れた場合とどちらも入れない場合それぞれのお会計を表示するプログラム\n",
    "\n",
    "has_cheese = True # チーズを入れる？ 入れる：True  入れない：False いずれかをセットする\n",
    "has_tomato = True # トマトを入れる？ 入れる：True  入れない：False いずれかをセットする\n",
    "\n",
    "if has_cheese and has_tomato: # チーズとトマトを入れるなら\n",
    "    \n",
    "    print('店員：「お会計は、490円です。」')\n",
    "\n",
    "elif has_cheese: # チーズだけ入れるなら\n",
    "    \n",
    "    print('店員：「お会計は、340円です。」')\n",
    "    \n",
    "elif has_tomato: # トマトだけ入れるなら\n",
    "    \n",
    "    print('店員：「お会計は、390円です。」')\n",
    "\n",
    "else: # どちらも入れないなら\n",
    "    \n",
    "    print('店員：「お会計は240円です。」')"
   ]
  },
  {
   "cell_type": "markdown",
   "metadata": {},
   "source": [
    "## 比較の条件式"
   ]
  },
  {
   "cell_type": "markdown",
   "metadata": {},
   "source": [
    "---\n",
    "### ハンバーガーの値段を比べよう（例６\n",
    "\n",
    "もしハンバーガーAがハンバーガーCより安くチーズが入っているなら\n",
    "\n",
    "    「ハンバーガーAは、トマトバーガーです。」\n",
    "\n",
    "もしハンバーガーAがハンバーガーBより高く、かつ、チーズが入っていないなら\n",
    "\n",
    "    「ハンバーガーAは、トマトバーガーです。」\n",
    "    \n",
    "もしハンバーガーAが300円以下なら\n",
    "\n",
    "    「ハンバーガーAは、スタンダードなバーガーです。」\n",
    "    \n",
    "もしそうでないなら\n",
    "\n",
    "    「ハンバーガーAは、チーズトマトバーガーです。」"
   ]
  },
  {
   "cell_type": "markdown",
   "metadata": {},
   "source": [
    ">### 使用する文法 \n",
    "\n",
    "if (条件式) and <span style=\"color: #d61b09\">not</span> (条件式):\n",
    "\n",
    "    ブロックコード\n",
    "    \n",
    "elif (条件式) and (条件式):\n",
    "\n",
    "    ブロックコード\n",
    "    \n",
    "elif (条件式):\n",
    "\n",
    "    ブロックコード    \n",
    "    \n",
    "else:\n",
    "    \n",
    "    ブロックコード"
   ]
  },
  {
   "cell_type": "code",
   "execution_count": 4,
   "metadata": {},
   "outputs": [
    {
     "name": "stdout",
     "output_type": "stream",
     "text": [
      "「ハンバーガーAは、チーズバーガーです。」\n"
     ]
    }
   ],
   "source": [
    "humbargerA_price = 390\n",
    "humbargerB_price = 340\n",
    "humbargerC_price = 490\n",
    "has_cheese = True\n",
    "\n",
    "if humbargerA_price < humbargerC_price and has_cheese:\n",
    "    \n",
    "    print('「ハンバーガーAは、チーズバーガーです。」')\n",
    "    \n",
    "elif humbargerA_price > humbargerB_price and not has_cheese:\n",
    "    \n",
    "    print('「ハンバーガーAは、トマトバーガーです。」')\n",
    "        \n",
    "elif humbargerA_price < 300:\n",
    "    \n",
    "    print('「ハンバーガーAは、スタンダードなバーガーです。」')\n",
    "    \n",
    "else:\n",
    "    \n",
    "    print('「ハンバーガーAは、チーズトマトバーガーです。」')"
   ]
  },
  {
   "cell_type": "code",
   "execution_count": null,
   "metadata": {},
   "outputs": [],
   "source": []
  },
  {
   "cell_type": "markdown",
   "metadata": {},
   "source": [
    "## 以下、おまけ"
   ]
  },
  {
   "cell_type": "code",
   "execution_count": 5,
   "metadata": {},
   "outputs": [
    {
     "name": "stdout",
     "output_type": "stream",
     "text": [
      "ハンバーガーは何になさいますか？ 0：humbargerA、１：humbargerB、2：humbargerC\n"
     ]
    },
    {
     "ename": "KeyboardInterrupt",
     "evalue": "",
     "output_type": "error",
     "traceback": [
      "\u001b[0;31m---------------------------------------------------------------------------\u001b[0m",
      "\u001b[0;31mKeyboardInterrupt\u001b[0m                         Traceback (most recent call last)",
      "\u001b[0;32m/anaconda3/lib/python3.7/site-packages/ipykernel/kernelbase.py\u001b[0m in \u001b[0;36m_input_request\u001b[0;34m(self, prompt, ident, parent, password)\u001b[0m\n\u001b[1;32m    877\u001b[0m             \u001b[0;32mtry\u001b[0m\u001b[0;34m:\u001b[0m\u001b[0;34m\u001b[0m\u001b[0;34m\u001b[0m\u001b[0m\n\u001b[0;32m--> 878\u001b[0;31m                 \u001b[0mident\u001b[0m\u001b[0;34m,\u001b[0m \u001b[0mreply\u001b[0m \u001b[0;34m=\u001b[0m \u001b[0mself\u001b[0m\u001b[0;34m.\u001b[0m\u001b[0msession\u001b[0m\u001b[0;34m.\u001b[0m\u001b[0mrecv\u001b[0m\u001b[0;34m(\u001b[0m\u001b[0mself\u001b[0m\u001b[0;34m.\u001b[0m\u001b[0mstdin_socket\u001b[0m\u001b[0;34m,\u001b[0m \u001b[0;36m0\u001b[0m\u001b[0;34m)\u001b[0m\u001b[0;34m\u001b[0m\u001b[0;34m\u001b[0m\u001b[0m\n\u001b[0m\u001b[1;32m    879\u001b[0m             \u001b[0;32mexcept\u001b[0m \u001b[0mException\u001b[0m\u001b[0;34m:\u001b[0m\u001b[0;34m\u001b[0m\u001b[0;34m\u001b[0m\u001b[0m\n",
      "\u001b[0;32m/anaconda3/lib/python3.7/site-packages/jupyter_client/session.py\u001b[0m in \u001b[0;36mrecv\u001b[0;34m(self, socket, mode, content, copy)\u001b[0m\n\u001b[1;32m    802\u001b[0m         \u001b[0;32mtry\u001b[0m\u001b[0;34m:\u001b[0m\u001b[0;34m\u001b[0m\u001b[0;34m\u001b[0m\u001b[0m\n\u001b[0;32m--> 803\u001b[0;31m             \u001b[0mmsg_list\u001b[0m \u001b[0;34m=\u001b[0m \u001b[0msocket\u001b[0m\u001b[0;34m.\u001b[0m\u001b[0mrecv_multipart\u001b[0m\u001b[0;34m(\u001b[0m\u001b[0mmode\u001b[0m\u001b[0;34m,\u001b[0m \u001b[0mcopy\u001b[0m\u001b[0;34m=\u001b[0m\u001b[0mcopy\u001b[0m\u001b[0;34m)\u001b[0m\u001b[0;34m\u001b[0m\u001b[0;34m\u001b[0m\u001b[0m\n\u001b[0m\u001b[1;32m    804\u001b[0m         \u001b[0;32mexcept\u001b[0m \u001b[0mzmq\u001b[0m\u001b[0;34m.\u001b[0m\u001b[0mZMQError\u001b[0m \u001b[0;32mas\u001b[0m \u001b[0me\u001b[0m\u001b[0;34m:\u001b[0m\u001b[0;34m\u001b[0m\u001b[0;34m\u001b[0m\u001b[0m\n",
      "\u001b[0;32m/anaconda3/lib/python3.7/site-packages/zmq/sugar/socket.py\u001b[0m in \u001b[0;36mrecv_multipart\u001b[0;34m(self, flags, copy, track)\u001b[0m\n\u001b[1;32m    469\u001b[0m         \"\"\"\n\u001b[0;32m--> 470\u001b[0;31m         \u001b[0mparts\u001b[0m \u001b[0;34m=\u001b[0m \u001b[0;34m[\u001b[0m\u001b[0mself\u001b[0m\u001b[0;34m.\u001b[0m\u001b[0mrecv\u001b[0m\u001b[0;34m(\u001b[0m\u001b[0mflags\u001b[0m\u001b[0;34m,\u001b[0m \u001b[0mcopy\u001b[0m\u001b[0;34m=\u001b[0m\u001b[0mcopy\u001b[0m\u001b[0;34m,\u001b[0m \u001b[0mtrack\u001b[0m\u001b[0;34m=\u001b[0m\u001b[0mtrack\u001b[0m\u001b[0;34m)\u001b[0m\u001b[0;34m]\u001b[0m\u001b[0;34m\u001b[0m\u001b[0;34m\u001b[0m\u001b[0m\n\u001b[0m\u001b[1;32m    471\u001b[0m         \u001b[0;31m# have first part already, only loop while more to receive\u001b[0m\u001b[0;34m\u001b[0m\u001b[0;34m\u001b[0m\u001b[0;34m\u001b[0m\u001b[0m\n",
      "\u001b[0;32mzmq/backend/cython/socket.pyx\u001b[0m in \u001b[0;36mzmq.backend.cython.socket.Socket.recv\u001b[0;34m()\u001b[0m\n",
      "\u001b[0;32mzmq/backend/cython/socket.pyx\u001b[0m in \u001b[0;36mzmq.backend.cython.socket.Socket.recv\u001b[0;34m()\u001b[0m\n",
      "\u001b[0;32mzmq/backend/cython/socket.pyx\u001b[0m in \u001b[0;36mzmq.backend.cython.socket._recv_copy\u001b[0;34m()\u001b[0m\n",
      "\u001b[0;32m/anaconda3/lib/python3.7/site-packages/zmq/backend/cython/checkrc.pxd\u001b[0m in \u001b[0;36mzmq.backend.cython.checkrc._check_rc\u001b[0;34m()\u001b[0m\n",
      "\u001b[0;31mKeyboardInterrupt\u001b[0m: ",
      "\nDuring handling of the above exception, another exception occurred:\n",
      "\u001b[0;31mKeyboardInterrupt\u001b[0m                         Traceback (most recent call last)",
      "\u001b[0;32m<ipython-input-5-88efcbbc7b4f>\u001b[0m in \u001b[0;36m<module>\u001b[0;34m\u001b[0m\n\u001b[1;32m      4\u001b[0m \u001b[0;34m\u001b[0m\u001b[0m\n\u001b[1;32m      5\u001b[0m \u001b[0mprint\u001b[0m\u001b[0;34m(\u001b[0m\u001b[0;34m'ハンバーガーは何になさいますか？ 0：humbargerA、１：humbargerB、2：humbargerC'\u001b[0m\u001b[0;34m)\u001b[0m\u001b[0;34m\u001b[0m\u001b[0;34m\u001b[0m\u001b[0m\n\u001b[0;32m----> 6\u001b[0;31m \u001b[0mhumbarger_number\u001b[0m \u001b[0;34m=\u001b[0m \u001b[0minput\u001b[0m\u001b[0;34m(\u001b[0m\u001b[0;34m)\u001b[0m\u001b[0;34m.\u001b[0m\u001b[0mstrip\u001b[0m\u001b[0;34m(\u001b[0m\u001b[0;34m)\u001b[0m\u001b[0;34m\u001b[0m\u001b[0;34m\u001b[0m\u001b[0m\n\u001b[0m\u001b[1;32m      7\u001b[0m \u001b[0;34m\u001b[0m\u001b[0m\n\u001b[1;32m      8\u001b[0m \u001b[0;32mif\u001b[0m \u001b[0mhumbarger_number\u001b[0m \u001b[0;34m==\u001b[0m \u001b[0;34m'0'\u001b[0m\u001b[0;34m:\u001b[0m\u001b[0;34m\u001b[0m\u001b[0;34m\u001b[0m\u001b[0m\n",
      "\u001b[0;32m/anaconda3/lib/python3.7/site-packages/ipykernel/kernelbase.py\u001b[0m in \u001b[0;36mraw_input\u001b[0;34m(self, prompt)\u001b[0m\n\u001b[1;32m    851\u001b[0m             \u001b[0mself\u001b[0m\u001b[0;34m.\u001b[0m\u001b[0m_parent_ident\u001b[0m\u001b[0;34m,\u001b[0m\u001b[0;34m\u001b[0m\u001b[0;34m\u001b[0m\u001b[0m\n\u001b[1;32m    852\u001b[0m             \u001b[0mself\u001b[0m\u001b[0;34m.\u001b[0m\u001b[0m_parent_header\u001b[0m\u001b[0;34m,\u001b[0m\u001b[0;34m\u001b[0m\u001b[0;34m\u001b[0m\u001b[0m\n\u001b[0;32m--> 853\u001b[0;31m             \u001b[0mpassword\u001b[0m\u001b[0;34m=\u001b[0m\u001b[0;32mFalse\u001b[0m\u001b[0;34m,\u001b[0m\u001b[0;34m\u001b[0m\u001b[0;34m\u001b[0m\u001b[0m\n\u001b[0m\u001b[1;32m    854\u001b[0m         )\n\u001b[1;32m    855\u001b[0m \u001b[0;34m\u001b[0m\u001b[0m\n",
      "\u001b[0;32m/anaconda3/lib/python3.7/site-packages/ipykernel/kernelbase.py\u001b[0m in \u001b[0;36m_input_request\u001b[0;34m(self, prompt, ident, parent, password)\u001b[0m\n\u001b[1;32m    881\u001b[0m             \u001b[0;32mexcept\u001b[0m \u001b[0mKeyboardInterrupt\u001b[0m\u001b[0;34m:\u001b[0m\u001b[0;34m\u001b[0m\u001b[0;34m\u001b[0m\u001b[0m\n\u001b[1;32m    882\u001b[0m                 \u001b[0;31m# re-raise KeyboardInterrupt, to truncate traceback\u001b[0m\u001b[0;34m\u001b[0m\u001b[0;34m\u001b[0m\u001b[0;34m\u001b[0m\u001b[0m\n\u001b[0;32m--> 883\u001b[0;31m                 \u001b[0;32mraise\u001b[0m \u001b[0mKeyboardInterrupt\u001b[0m\u001b[0;34m\u001b[0m\u001b[0;34m\u001b[0m\u001b[0m\n\u001b[0m\u001b[1;32m    884\u001b[0m             \u001b[0;32melse\u001b[0m\u001b[0;34m:\u001b[0m\u001b[0;34m\u001b[0m\u001b[0;34m\u001b[0m\u001b[0m\n\u001b[1;32m    885\u001b[0m                 \u001b[0;32mbreak\u001b[0m\u001b[0;34m\u001b[0m\u001b[0;34m\u001b[0m\u001b[0m\n",
      "\u001b[0;31mKeyboardInterrupt\u001b[0m: "
     ]
    }
   ],
   "source": [
    "humbargerA = 390\n",
    "humbargerB = 340\n",
    "humbargerC = 490\n",
    "\n",
    "print('ハンバーガーは何になさいますか？ 0：humbargerA、１：humbargerB、2：humbargerC')\n",
    "humbarger_number = input().strip()\n",
    "\n",
    "if humbarger_number == '0':\n",
    "    humbarger = humbargerA\n",
    "elif humbarger_number == '1':\n",
    "    humbarger = humbargerB\n",
    "else:\n",
    "    humbarger = humbargerC\n",
    "\n",
    "print('チーズ入れますか？ ０：入れない、１：入れる')\n",
    "\n",
    "order_cheese = input().strip()\n",
    "\n",
    "if order_cheese == '0':\n",
    "    has_cheese = False\n",
    "else:\n",
    "    has_cheese = True\n",
    "    \n",
    "order = ''\n",
    "\n",
    "if humbarger == humbargerA:\n",
    "    order = 'ハンバーガーAは、トマト'\n",
    "elif humbarger ==humbargerB:\n",
    "    order = 'ハンバーガーBは、照り焼き'\n",
    "else:\n",
    "    order = 'ハンバーガーCは、天然'\n",
    "    \n",
    "if has_cheese: \n",
    "    order += 'チーズ'\n",
    "\n",
    "print(order + 'バーガーです。お会計は、' , humbarger, '円です。')"
   ]
  },
  {
   "cell_type": "code",
   "execution_count": null,
   "metadata": {},
   "outputs": [],
   "source": [
    "\n",
    "\n",
    "\n"
   ]
  },
  {
   "cell_type": "code",
   "execution_count": null,
   "metadata": {},
   "outputs": [],
   "source": []
  },
  {
   "cell_type": "code",
   "execution_count": null,
   "metadata": {},
   "outputs": [],
   "source": []
  },
  {
   "cell_type": "code",
   "execution_count": null,
   "metadata": {},
   "outputs": [],
   "source": []
  }
 ],
 "metadata": {
  "kernelspec": {
   "display_name": "Python 3",
   "language": "python",
   "name": "python3"
  },
  "language_info": {
   "codemirror_mode": {
    "name": "ipython",
    "version": 3
   },
   "file_extension": ".py",
   "mimetype": "text/x-python",
   "name": "python",
   "nbconvert_exporter": "python",
   "pygments_lexer": "ipython3",
   "version": "3.7.3"
  }
 },
 "nbformat": 4,
 "nbformat_minor": 2
}
